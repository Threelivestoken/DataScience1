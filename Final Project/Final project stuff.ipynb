{
 "cells": [
  {
   "cell_type": "code",
   "execution_count": null,
   "id": "3af148fd",
   "metadata": {},
   "outputs": [],
   "source": [
    "#1 imports\n",
    "import pandas as pd\n",
    "import numpy as np\n",
    "import seaborn as sns\n",
    "import matplotlib.pyplot as plt"
   ]
  },
  {
   "cell_type": "code",
   "execution_count": null,
   "id": "96782b40",
   "metadata": {},
   "outputs": [],
   "source": [
    "#2 data\n",
    "df= pd.read_csv(\"mydata.csv\")\n",
    "df2= pd.read_csv(\"mydata.csv\")\n"
   ]
  },
  {
   "cell_type": "code",
   "execution_count": null,
   "id": "ee7b9911",
   "metadata": {},
   "outputs": [],
   "source": [
    "#3 turn values into tiny lists of their website and the length of the website\n",
    "for column in df:\n",
    "    for row in range(len(df[\"search\"])):\n",
    "        df[column][row]=[df[column][row],len(df[column][row])]\n",
    "for taco in range(len(df[\"search\"])):\n",
    "    df[\"search\"][taco]=df[\"search\"][taco][0]\n",
    "for column in df2:\n",
    "    for row in range(len(df2[\"search\"])):\n",
    "        df2[column][row]=len(df2[column][row])\n",
    "for taco in range(len(df2[\"search\"])):\n",
    "    df2[\"search\"][taco]=df[\"search\"][taco]"
   ]
  },
  {
   "cell_type": "code",
   "execution_count": null,
   "id": "aa7aac90",
   "metadata": {},
   "outputs": [],
   "source": [
    "#4 make new dictionary\n",
    "j={\n",
    "    \"search\":[1,1,1,1,1,2,2,2,2,2,3,3,3,3,3,4,4,4,4,4,5,5,5,5,5,6,6,6,6,6,7,7,7,7,7,8,8,8,8,8,9,9,9,9,9,10,10,10,10,10],\n",
    "    \"search2\":[1,2,3,4,5,6,7,8,9,10],\n",
    "    \"1\":[0,0,0,0,0],\n",
    "    \"2\":[0,0,0,0,0],\n",
    "    \"3\":[0,0,0,0,0],\n",
    "    \"4\":[0,0,0,0,0],\n",
    "    \"5\":[0,0,0,0,0],\n",
    "    \"6\":[0,0,0,0,0],\n",
    "    \"7\":[0,0,0,0,0],\n",
    "    \"8\":[0,0,0,0,0],\n",
    "    \"9\":[0,0,0,0,0],\n",
    "    \"10\":[0,0,0,0,0],\n",
    "    \"0\":[]\n",
    "}\n",
    "for taco in df2:\n",
    "    for burrito in range(len(df2[taco])):\n",
    "        if taco==\"search\":\n",
    "            df2[taco][burrito]=df2[taco][burrito]\n",
    "        else:\n",
    "            j[taco][burrito]=df2[taco][burrito]\n",
    "\n",
    "j[\"0\"]=j[\"0\"]+j[\"1\"]+j[\"2\"]+j[\"3\"]+j[\"4\"]+j[\"5\"]+j[\"6\"]+j[\"7\"]+j[\"8\"]+j[\"9\"]+j[\"10\"]"
   ]
  },
  {
   "cell_type": "code",
   "execution_count": null,
   "id": "a175be79",
   "metadata": {},
   "outputs": [],
   "source": [
    "#5 stuff continues on #4\n",
    "j[\"a\"]=[0,0,0,0,0,0,0,0,0,0]\n",
    "\n",
    "\n",
    "for taco in df2:\n",
    "    for burrito in range(len(df2[taco])):\n",
    "        if taco==\"search\":\n",
    "            df2[taco][burrito]=df2[taco][burrito]\n",
    "        else:\n",
    "            j[\"a\"][int(taco)-1]=j[\"a\"][int(taco)-1]+df2[taco][burrito]\n",
    "for taco in range(len(j[\"a\"])-1):\n",
    "    j[\"a\"][taco]=j[\"a\"][taco]/len(df2[\"2\"])\n"
   ]
  },
  {
   "cell_type": "code",
   "execution_count": null,
   "id": "52521fae",
   "metadata": {},
   "outputs": [],
   "source": [
    "#Part 2 #8 -visualize\n",
    "#graphing the place where things are in the search results vs the length of the websites name\n",
    "sns.histplot(data=j,x='search',y='0')\n",
    "plt.xlabel(\"Search results\")\n",
    "plt.ylabel(\"Length of website name\")"
   ]
  },
  {
   "cell_type": "code",
   "execution_count": null,
   "id": "e3aa9a11",
   "metadata": {},
   "outputs": [],
   "source": [
    "df2[\"avg\"]=0"
   ]
  },
  {
   "cell_type": "code",
   "execution_count": null,
   "id": "eed9a0da",
   "metadata": {},
   "outputs": [],
   "source": [
    "j"
   ]
  },
  {
   "cell_type": "code",
   "execution_count": null,
   "id": "f0e9db1b",
   "metadata": {},
   "outputs": [],
   "source": [
    "j[\"a\"]"
   ]
  },
  {
   "cell_type": "code",
   "execution_count": null,
   "id": "93e486d9",
   "metadata": {},
   "outputs": [],
   "source": [
    "sns.barplot(data='j',x='search2',y='a')"
   ]
  },
  {
   "cell_type": "code",
   "execution_count": null,
   "id": "838afe49",
   "metadata": {},
   "outputs": [],
   "source": [
    "df2.info()"
   ]
  },
  {
   "cell_type": "code",
   "execution_count": null,
   "id": "6f4e7a86",
   "metadata": {},
   "outputs": [],
   "source": [
    "#display\n",
    "sns.countplot(data=j,x=\"1\",hue=\"search\")"
   ]
  },
  {
   "cell_type": "code",
   "execution_count": null,
   "id": "798ec1ce",
   "metadata": {},
   "outputs": [],
   "source": []
  },
  {
   "cell_type": "code",
   "execution_count": null,
   "id": "ae16de4a",
   "metadata": {},
   "outputs": [],
   "source": []
  },
  {
   "cell_type": "code",
   "execution_count": null,
   "id": "1dc07ccb",
   "metadata": {},
   "outputs": [],
   "source": []
  },
  {
   "cell_type": "code",
   "execution_count": null,
   "id": "860654d2",
   "metadata": {},
   "outputs": [],
   "source": []
  },
  {
   "cell_type": "code",
   "execution_count": null,
   "id": "557298ca",
   "metadata": {},
   "outputs": [],
   "source": []
  },
  {
   "cell_type": "code",
   "execution_count": null,
   "id": "3ef6de14",
   "metadata": {},
   "outputs": [],
   "source": []
  },
  {
   "cell_type": "code",
   "execution_count": null,
   "id": "9a3c93ca",
   "metadata": {},
   "outputs": [],
   "source": []
  },
  {
   "cell_type": "code",
   "execution_count": null,
   "id": "0ec883c4",
   "metadata": {},
   "outputs": [],
   "source": [
    "df_n[]=df[\"search\"]"
   ]
  },
  {
   "cell_type": "code",
   "execution_count": null,
   "id": "1087689e",
   "metadata": {},
   "outputs": [],
   "source": [
    "for column in df:\n",
    "    print(column)\n",
    "    for row in range(len(df[column])):\n",
    "        print(df[column][row])\n",
    "\n",
    "for row in range(len(df[\"ba\"])):\n",
    "    for column in df:\n",
    "        print(df[column][row])"
   ]
  }
 ],
 "metadata": {
  "kernelspec": {
   "display_name": "Python 3 (ipykernel)",
   "language": "python",
   "name": "python3"
  },
  "language_info": {
   "codemirror_mode": {
    "name": "ipython",
    "version": 3
   },
   "file_extension": ".py",
   "mimetype": "text/x-python",
   "name": "python",
   "nbconvert_exporter": "python",
   "pygments_lexer": "ipython3",
   "version": "3.9.13"
  }
 },
 "nbformat": 4,
 "nbformat_minor": 5
}
