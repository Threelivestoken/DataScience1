{
 "cells": [
  {
   "cell_type": "code",
   "execution_count": 1,
   "id": "3af148fd",
   "metadata": {},
   "outputs": [],
   "source": [
    "#1 imports\n",
    "import pandas as pd\n",
    "import numpy as np\n",
    "import seaborn as sns"
   ]
  },
  {
   "cell_type": "code",
   "execution_count": 2,
   "id": "96782b40",
   "metadata": {},
   "outputs": [],
   "source": [
    "#2 data\n",
    "df= pd.read_csv(\"mydata.csv\")\n",
    "df2= pd.read_csv(\"mydata.csv\")\n"
   ]
  },
  {
   "cell_type": "code",
   "execution_count": 3,
   "id": "ee7b9911",
   "metadata": {},
   "outputs": [],
   "source": [
    "#3 turn values into tiny lists of their website and the length of the website\n",
    "for column in df:\n",
    "    for row in range(len(df[\"search\"])):\n",
    "        df[column][row]=[df[column][row],len(df[column][row])]\n",
    "for taco in range(len(df[\"search\"])):\n",
    "    df[\"search\"][taco]=df[\"search\"][taco][0]\n",
    "for column in df2:\n",
    "    for row in range(len(df2[\"search\"])):\n",
    "        df2[column][row]=len(df2[column][row])\n",
    "for taco in range(len(df2[\"search\"])):\n",
    "    df2[\"search\"][taco]=df[\"search\"][taco]"
   ]
  },
  {
   "cell_type": "code",
   "execution_count": 24,
   "id": "aa7aac90",
   "metadata": {},
   "outputs": [
    {
     "ename": "SyntaxError",
     "evalue": "invalid syntax (407802306.py, line 16)",
     "output_type": "error",
     "traceback": [
      "\u001b[1;36m  File \u001b[1;32m\"C:\\Users\\ejackson11\\AppData\\Local\\Temp\\ipykernel_8664\\407802306.py\"\u001b[1;36m, line \u001b[1;32m16\u001b[0m\n\u001b[1;33m    if taco=\"search\":\u001b[0m\n\u001b[1;37m           ^\u001b[0m\n\u001b[1;31mSyntaxError\u001b[0m\u001b[1;31m:\u001b[0m invalid syntax\n"
     ]
    }
   ],
   "source": [
    "j={\n",
    "    \"search\":[\"ba\",\"be\",\"bi\",\"bo\",\"bu\"],\n",
    "    \"1\":[0],\n",
    "    \"2\":[0],\n",
    "    \"3\":[0],\n",
    "    \"4\":[0],\n",
    "    \"5\":[0],\n",
    "    \"6\":[0],\n",
    "    \"7\":[0],\n",
    "    \"8\":[0],\n",
    "    \"9\":[0],\n",
    "    \"10\":[0]\n",
    "}\n",
    "for taco in df2:\n",
    "    for burrito in range(len(df2[taco])):\n",
    "        if taco=\"search\":\n",
    "            j[int(taco)-1]=j[int(taco)-1]+df2[taco][burrito]"
   ]
  },
  {
   "cell_type": "code",
   "execution_count": 21,
   "id": "a175be79",
   "metadata": {},
   "outputs": [
    {
     "data": {
      "text/plain": [
       "{'search': ['bababebibobu', 'be', 'bi', 'bo', 'bu'],\n",
       " '1': [96],\n",
       " '2': [88],\n",
       " '3': [88],\n",
       " '4': [90],\n",
       " '5': [103],\n",
       " '6': [71],\n",
       " '7': [86],\n",
       " '8': [81],\n",
       " '9': [105],\n",
       " '10': [72]}"
      ]
     },
     "execution_count": 21,
     "metadata": {},
     "output_type": "execute_result"
    }
   ],
   "source": [
    "j"
   ]
  },
  {
   "cell_type": "code",
   "execution_count": null,
   "id": "e3aa9a11",
   "metadata": {},
   "outputs": [],
   "source": [
    "len(df2[\"2\"])"
   ]
  },
  {
   "cell_type": "code",
   "execution_count": null,
   "id": "838afe49",
   "metadata": {},
   "outputs": [],
   "source": [
    "df2.info()"
   ]
  },
  {
   "cell_type": "code",
   "execution_count": null,
   "id": "6f4e7a86",
   "metadata": {},
   "outputs": [],
   "source": [
    "#display\n",
    "sns.countplot(data=df2,x=\"1\",hue=\"search\")"
   ]
  },
  {
   "cell_type": "code",
   "execution_count": null,
   "id": "798ec1ce",
   "metadata": {},
   "outputs": [],
   "source": []
  },
  {
   "cell_type": "code",
   "execution_count": null,
   "id": "ae16de4a",
   "metadata": {},
   "outputs": [],
   "source": []
  },
  {
   "cell_type": "code",
   "execution_count": null,
   "id": "1dc07ccb",
   "metadata": {},
   "outputs": [],
   "source": []
  },
  {
   "cell_type": "code",
   "execution_count": null,
   "id": "860654d2",
   "metadata": {},
   "outputs": [],
   "source": []
  },
  {
   "cell_type": "code",
   "execution_count": null,
   "id": "557298ca",
   "metadata": {},
   "outputs": [],
   "source": []
  },
  {
   "cell_type": "code",
   "execution_count": null,
   "id": "3ef6de14",
   "metadata": {},
   "outputs": [],
   "source": []
  },
  {
   "cell_type": "code",
   "execution_count": null,
   "id": "9a3c93ca",
   "metadata": {},
   "outputs": [],
   "source": []
  },
  {
   "cell_type": "code",
   "execution_count": null,
   "id": "0ec883c4",
   "metadata": {},
   "outputs": [],
   "source": [
    "df_n[]=df[\"search\"]"
   ]
  },
  {
   "cell_type": "code",
   "execution_count": null,
   "id": "1087689e",
   "metadata": {},
   "outputs": [],
   "source": [
    "for column in df:\n",
    "    print(column)\n",
    "    for row in range(len(df[column])):\n",
    "        print(df[column][row])\n",
    "\n",
    "for row in range(len(df[\"ba\"])):\n",
    "    for column in df:\n",
    "        print(df[column][row])"
   ]
  }
 ],
 "metadata": {
  "kernelspec": {
   "display_name": "Python 3 (ipykernel)",
   "language": "python",
   "name": "python3"
  },
  "language_info": {
   "codemirror_mode": {
    "name": "ipython",
    "version": 3
   },
   "file_extension": ".py",
   "mimetype": "text/x-python",
   "name": "python",
   "nbconvert_exporter": "python",
   "pygments_lexer": "ipython3",
   "version": "3.9.13"
  }
 },
 "nbformat": 4,
 "nbformat_minor": 5
}
