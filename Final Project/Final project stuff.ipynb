{
 "cells": [
  {
   "cell_type": "code",
   "execution_count": 1,
   "id": "3af148fd",
   "metadata": {},
   "outputs": [],
   "source": [
    "#1 imports\n",
    "import pandas as pd\n",
    "import numpy as np\n",
    "import seaborn as sns\n",
    "import matplotlib.pyplot as plt"
   ]
  },
  {
   "cell_type": "code",
   "execution_count": 27,
   "id": "96782b40",
   "metadata": {},
   "outputs": [],
   "source": [
    "#2 data\n",
    "df= pd.read_csv(\"mydata.csv\")\n",
    "df2= pd.read_csv(\"mydata.csv\")\n"
   ]
  },
  {
   "cell_type": "code",
   "execution_count": 28,
   "id": "ee7b9911",
   "metadata": {},
   "outputs": [],
   "source": [
    "#3 turn values into tiny lists of their website and the length of the website\n",
    "for column in df:\n",
    "    for row in range(len(df[\"search\"])):\n",
    "        df[column][row]=[df[column][row],len(df[column][row])]\n",
    "for taco in range(len(df[\"search\"])):\n",
    "    df[\"search\"][taco]=df[\"search\"][taco][0]\n",
    "for column in df2:\n",
    "    for row in range(len(df2[\"search\"])):\n",
    "        df2[column][row]=len(df2[column][row])\n",
    "for taco in range(len(df2[\"search\"])):\n",
    "    df2[\"search\"][taco]=df[\"search\"][taco]"
   ]
  },
  {
   "cell_type": "code",
   "execution_count": 4,
   "id": "aa7aac90",
   "metadata": {},
   "outputs": [],
   "source": [
    "#4 make new dictionary\n",
    "j={\n",
    "    \"search\":[1,1,1,1,1,2,2,2,2,2,3,3,3,3,3,4,4,4,4,4,5,5,5,5,5,6,6,6,6,6,7,7,7,7,7,8,8,8,8,8,9,9,9,9,9,10,10,10,10,10],\n",
    "    \"search2\":[1,2,3,4,5,6,7,8,9,10],\n",
    "    \"1\":[0,0,0,0,0],\n",
    "    \"2\":[0,0,0,0,0],\n",
    "    \"3\":[0,0,0,0,0],\n",
    "    \"4\":[0,0,0,0,0],\n",
    "    \"5\":[0,0,0,0,0],\n",
    "    \"6\":[0,0,0,0,0],\n",
    "    \"7\":[0,0,0,0,0],\n",
    "    \"8\":[0,0,0,0,0],\n",
    "    \"9\":[0,0,0,0,0],\n",
    "    \"10\":[0,0,0,0,0],\n",
    "    \"0\":[]\n",
    "}\n",
    "for taco in df2:\n",
    "    for burrito in range(len(df2[taco])):\n",
    "        if taco==\"search\":\n",
    "            df2[taco][burrito]=df2[taco][burrito]\n",
    "        else:\n",
    "            j[taco][burrito]=df2[taco][burrito]\n",
    "\n",
    "j[\"0\"]=j[\"0\"]+j[\"1\"]+j[\"2\"]+j[\"3\"]+j[\"4\"]+j[\"5\"]+j[\"6\"]+j[\"7\"]+j[\"8\"]+j[\"9\"]+j[\"10\"]"
   ]
  },
  {
   "cell_type": "code",
   "execution_count": 5,
   "id": "a175be79",
   "metadata": {},
   "outputs": [],
   "source": [
    "#5 stuff continues on #4\n",
    "j[\"a\"]=[0,0,0,0,0,0,0,0,0,0]\n",
    "\n",
    "\n",
    "for taco in df2:\n",
    "    for burrito in range(len(df2[taco])):\n",
    "        if taco==\"search\":\n",
    "            df2[taco][burrito]=df2[taco][burrito]\n",
    "        else:\n",
    "            j[\"a\"][int(taco)-1]=j[\"a\"][int(taco)-1]+df2[taco][burrito]\n",
    "for taco in range(len(j[\"a\"])-1):\n",
    "    j[\"a\"][taco]=j[\"a\"][taco]/len(df2[\"2\"])\n"
   ]
  },
  {
   "cell_type": "code",
   "execution_count": null,
   "id": "55b71231",
   "metadata": {},
   "outputs": [],
   "source": []
  },
  {
   "cell_type": "code",
   "execution_count": 48,
   "id": "819647f1",
   "metadata": {},
   "outputs": [],
   "source": [
    "#other stuff to make stuff to actually put in the webpage\n",
    "l={\"1\":[0,0,0,0,0,0,0,0,0,0,0,0,0,0,0,0,0,0,0,0,0,0,0,0,0,0,0,0,0,0,0,0,0,0,0,0,0,0,0,0,0,0,0,0,0,0,0,0,0,0],\n",
    "  \"2\":[0,0,0,0,0,0,0,0,0,0,0,0,0,0,0,0,0,0,0,0,0,0,0,0,0,0,0,0,0,0,0,0,0,0,0,0,0,0,0,0,0,0,0,0,0,0,0,0,0,0]}\n",
    "for taco in df2:\n",
    "    for burrito in range(len(df2[taco])):\n",
    "        if taco==\"search\":\n",
    "            df2[taco][burrito]=df2[taco][burrito]\n",
    "        else:\n",
    "            l[\"1\"][int(burrito-1)*10+int(taco)]=taco\n",
    "            l[\"2\"][int(burrito-1)*10+int(taco)]=df2[taco][burrito]"
   ]
  },
  {
   "cell_type": "code",
   "execution_count": null,
   "id": "634b210e",
   "metadata": {},
   "outputs": [],
   "source": [
    "#  { \"x\": 10, \"y\": 20 },\n",
    "#  { \"x\": 30, \"y\": 40 },\n",
    "#  { \"x\": 50, \"y\": 10 }"
   ]
  },
  {
   "cell_type": "code",
   "execution_count": 50,
   "id": "68015727",
   "metadata": {
    "scrolled": false
   },
   "outputs": [
    {
     "name": "stdout",
     "output_type": "stream",
     "text": [
      "{ x:  10 , y:  11  },\n",
      "{ x:  1 , y:  23  },\n",
      "{ x:  2 , y:  18  },\n",
      "{ x:  3 , y:  17  },\n",
      "{ x:  4 , y:  17  },\n",
      "{ x:  5 , y:  31  },\n",
      "{ x:  6 , y:  16  },\n",
      "{ x:  7 , y:  11  },\n",
      "{ x:  8 , y:  10  },\n",
      "{ x:  9 , y:  24  },\n",
      "{ x:  10 , y:  25  },\n",
      "{ x:  1 , y:  18  },\n",
      "{ x:  2 , y:  21  },\n",
      "{ x:  3 , y:  11  },\n",
      "{ x:  4 , y:  18  },\n",
      "{ x:  5 , y:  16  },\n",
      "{ x:  6 , y:  6  },\n",
      "{ x:  7 , y:  15  },\n",
      "{ x:  8 , y:  24  },\n",
      "{ x:  9 , y:  16  },\n",
      "{ x:  10 , y:  14  },\n",
      "{ x:  1 , y:  23  },\n",
      "{ x:  2 , y:  18  },\n",
      "{ x:  3 , y:  17  },\n",
      "{ x:  4 , y:  24  },\n",
      "{ x:  5 , y:  25  },\n",
      "{ x:  6 , y:  17  },\n",
      "{ x:  7 , y:  25  },\n",
      "{ x:  8 , y:  16  },\n",
      "{ x:  9 , y:  34  },\n",
      "{ x:  10 , y:  11  },\n",
      "{ x:  1 , y:  10  },\n",
      "{ x:  2 , y:  14  },\n",
      "{ x:  3 , y:  16  },\n",
      "{ x:  4 , y:  13  },\n",
      "{ x:  5 , y:  14  },\n",
      "{ x:  6 , y:  16  },\n",
      "{ x:  7 , y:  16  },\n",
      "{ x:  8 , y:  15  },\n",
      "{ x:  9 , y:  15  },\n",
      "{ x:  10 , y:  11  },\n",
      "{ x:  1 , y:  22  },\n",
      "{ x:  2 , y:  17  },\n",
      "{ x:  3 , y:  27  },\n",
      "{ x:  4 , y:  18  },\n",
      "{ x:  5 , y:  17  },\n",
      "{ x:  6 , y:  16  },\n",
      "{ x:  7 , y:  19  },\n",
      "{ x:  8 , y:  16  },\n",
      "{ x:  9 , y:  16  },\n"
     ]
    }
   ],
   "source": [
    "for taco in range(len(l[\"1\"])):\n",
    "    print(\"{ x: \",l[\"1\"][taco],\", y: \",l[\"2\"][taco],\" },\")"
   ]
  },
  {
   "cell_type": "code",
   "execution_count": null,
   "id": "82461ba4",
   "metadata": {},
   "outputs": [],
   "source": []
  },
  {
   "cell_type": "code",
   "execution_count": 6,
   "id": "52521fae",
   "metadata": {},
   "outputs": [
    {
     "data": {
      "text/plain": [
       "Text(0, 0.5, 'Length of website name')"
      ]
     },
     "execution_count": 6,
     "metadata": {},
     "output_type": "execute_result"
    },
    {
     "data": {
      "image/png": "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",
      "text/plain": [
       "<Figure size 640x480 with 1 Axes>"
      ]
     },
     "metadata": {},
     "output_type": "display_data"
    }
   ],
   "source": [
    "#Part 2 #8 -visualize\n",
    "#graphing the place where things are in the search results vs the length of the websites name\n