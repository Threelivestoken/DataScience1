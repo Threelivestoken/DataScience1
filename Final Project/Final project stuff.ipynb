{
 "cells": [
  {
   "cell_type": "code",
   "execution_count": 1,
   "id": "3af148fd",
   "metadata": {},
   "outputs": [],
   "source": [
    "#1 imports\n",
    "import pandas as pd\n",
    "import numpy as np\n",
    "import seaborn as sns"
   ]
  },
  {
   "cell_type": "code",
   "execution_count": 2,
   "id": "96782b40",
   "metadata": {},
   "outputs": [],
   "source": [
    "#2 data\n",
    "df= pd.read_csv(\"mydata.csv\")\n",
    "df2= pd.read_csv(\"mydata.csv\")\n"
   ]
  },
  {
   "cell_type": "code",
   "execution_count": 3,
   "id": "ee7b9911",
   "metadata": {},
   "outputs": [],
   "source": [
    "#3 turn values into tiny lists of their website and the length of the website\n",
    "for column in df:\n",
    "    for row in range(len(df[\"search\"])):\n",
    "        df[column][row]=[df[column][row],len(df[column][row])]\n",
    "for taco in range(len(df[\"search\"])):\n",
    "    df[\"search\"][taco]=df[\"search\"][taco][0]\n",
    "for column in df2:\n",
    "    for row in range(len(df2[\"search\"])):\n",
    "        df2[column][row]=len(df2[column][row])\n",
    "for taco in range(len(df2[\"search\"])):\n",
    "    df2[\"search\"][taco]=df[\"search\"][taco]"
   ]
  },
  {
   "cell_type": "code",
   "execution_count": 5,
   "id": "aa7aac90",
   "metadata": {},
   "outputs": [],
   "source": [
    "#4 make new dictionary\n",
    "j={\n",
    "    \"search\":[1,1,1,1,1,2,2,2,2,2,3,3,3,3,3,4,4,4,4,4,5,5,5,5,5,6,6,6,6,6,7,7,7,7,7,8,8,8,8,8,9,9,9,9,9,10,10,10,10,10],\n",
    "    \"1\":[0,0,0,0,0],\n",
    "    \"2\":[0,0,0,0,0],\n",
    "    \"3\":[0,0,0,0,0],\n",
    "    \"4\":[0,0,0,0,0],\n",
    "    \"5\":[0,0,0,0,0],\n",
    "    \"6\":[0,0,0,0,0],\n",
    "    \"7\":[0,0,0,0,0],\n",
    "    \"8\":[0,0,0,0,0],\n",
    "    \"9\":[0,0,0,0,0],\n",
    "    \"10\":[0,0,0,0,0],\n",
    "    \"0\":[]\n",
    "}\n",
    "for taco in df2:\n",
    "    for burrito in range(len(df2[taco])):\n",
    "        if taco==\"search\":\n",
    "            df2[taco][burrito]=df2[taco][burrito]\n",
    "        else:\n",
    "            j[taco][burrito]=df2[taco][burrito]\n",
    "\n",
    "j[\"0\"]=j[\"0\"]+j[\"1\"]+j[\"2\"]+j[\"3\"]+j[\"4\"]+j[\"5\"]+j[\"6\"]+j[\"7\"]+j[\"8\"]+j[\"9\"]+j[\"10\"]"
   ]
  },
  {
   "cell_type": "code",
   "execution_count": 6,
   "id": "a175be79",
   "metadata": {},
   "outputs": [],
   "source": [
    "#5 stuff continues on #4\n",
    "j[\"a\"]=[0,0,0,0,0,0,0,0,0,0]\n",
    "\n",
    "\n",
    "for taco in df2:\n",
    "    for burrito in range(len(df2[taco])):\n",
    "        if taco==\"search\":\n",
    "            df2[taco][burrito]=df2[taco][burrito]\n",
    "        else:\n",
    "            j[\"a\"][int(taco)-1]=j[\"a\"][int(taco)-1]+df2[taco][burrito]\n",
    "for taco in range(len(j[\"a\"])-1):\n",
    "    j[\"a\"][taco]=j[\"a\"][taco]/len(df2[\"2\"])\n"
   ]
  },
  {
   "cell_type": "code",
   "execution_count": null,
   "id": "52521fae",
   "metadata": {},
   "outputs": [],
   "source": [
    "#Part 2 #8 -visualize\n",
    "sns.histplot(data=j,x='search',y='0')"
   ]
  },
  {
   "cell_type": "code",
   "execution_count": 7,
   "id": "e3aa9a11",
   "metadata": {},
   "outputs": [],
   "source": [
    "df2[\"avg\"]=0"
   ]
  },
  {
   "cell_type": "code",
   "execution_count": 8,
   "id": "eed9a0da",
   "metadata": {},
   "outputs": [
    {
     "data": {
      "text/plain": [
       "{'search': [1,\n",
       "  1,\n",
       "  1,\n",
       "  1,\n",
       "  1,\n",
       "  2,\n",
       "  2,\n",
       "  2,\n",
       "  2,\n",
       "  2,\n",
       "  3,\n",
       "  3,\n",
       "  3,\n",
       "  3,\n",
       "  3,\n",
       "  4,\n",
       "  4,\n",
       "  4,\n",
       "  4,\n",
       "  4,\n",
       "  5,\n",
       "  5,\n",
       "  5,\n",
       "  5,\n",
       "  5,\n",
       "  6,\n",
       "  6,\n",
       "  6,\n",
       "  6,\n",
       "  6,\n",
       "  7,\n",
       "  7,\n",
       "  7,\n",
       "  7,\n",
       "  7,\n",
       "  8,\n",
       "  8,\n",
       "  8,\n",
       "  8,\n",
       "  8,\n",
       "  9,\n",
       "  9,\n",
       "  9,\n",
       "  9,\n",
       "  9,\n",
       "  10,\n",
       "  10,\n",
       "  10,\n",
       "  10,\n",
       "  10],\n",
       " '1': [22, 23, 18, 23, 10],\n",
       " '2': [17, 18, 21, 18, 14],\n",
       " '3': [27, 17, 11, 17, 16],\n",
       " '4': [18, 17, 18, 24, 13],\n",
       " '5': [17, 31, 16, 25, 14],\n",
       " '6': [16, 16, 6, 17, 16],\n",
       " '7': [19, 11, 15, 25, 16],\n",
       " '8': [16, 10, 24, 16, 15],\n",
       " '9': [16, 24, 16, 34, 15],\n",
       " '10': [11, 25, 14, 11, 11],\n",
       " '0': [22,\n",
       "  23,\n",
       "  18,\n",
       "  23,\n",
       "  10,\n",
       "  17,\n",
       "  18,\n",
       "  21,\n",
       "  18,\n",
       "  14,\n",
       "  27,\n",
       "  17,\n",
       "  11,\n",
       "  17,\n",
       "  16,\n",
       "  18,\n",
       "  17,\n",
       "  18,\n",
       "  24,\n",
       "  13,\n",
       "  17,\n",
       "  31,\n",
       "  16,\n",
       "  25,\n",
       "  14,\n",
       "  16,\n",
       "  16,\n",
       "  6,\n",
       "  17,\n",
       "  16,\n",
       "  19,\n",
       "  11,\n",
       "  15,\n",
       "  25,\n",
       "  16,\n",
       "  16,\n",
       "  10,\n",
       "  24,\n",
       "  16,\n",
       "  15,\n",
       "  16,\n",
       "  24,\n",
       "  16,\n",
       "  34,\n",
       "  15,\n",
       "  11,\n",
       "  25,\n",
       "  14,\n",
       "  11,\n",
       "  11],\n",
       " 'a': [19.2, 17.6, 17.6, 18.0, 20.6, 14.2, 17.2, 16.2, 21.0, 72]}"
      ]
     },
     "execution_count": 8,
     "metadata": {},
     "output_type": "execute_result"
    }
   ],
   "source": [
    "j"
   ]
  },
  {
   "cell_type": "code",
   "execution_count": null,
   "id": "f0e9db1b",
   "metadata": {},
   "outputs": [],
   "source": []
  },
  {
   "cell_type": "code",
   "execution_count": null,
   "id": "838afe49",
   "metadata": {},
   "outputs": [],
   "source": [
    "df2.info()"
   ]
  },
  {
   "cell_type": "code",
   "execution_count": null,
   "id": "6f4e7a86",
   "metadata": {},
   "outputs": [],
   "source": [
    "#display\n",
    "sns.countplot(data=j,x=\"1\",hue=\"search\")"
   ]
  },
  {
   "cell_type": "code",
   "execution_count": null,
   "id": "798ec1ce",
   "metadata": {},
   "outputs": [],
   "source": []
  },
  {
   "cell_type": "code",
   "execution_count": 9,
   "id": "ae16de4a",
   "metadata": {},
   "outputs": [
    {
     "data": {
      "text/plain": [
       "<AxesSubplot:xlabel='search', ylabel='0'>"
      ]
     },
     "execution_count": 9,
     "metadata": {},
     "output_type": "execute_result"
    },
    {
     "data": {
      "image/png": "[encoded data removed]",
      "text/plain": [
       "<Figure size 640x480 with 1 Axes>"
      ]
     },
     "metadata": {},
     "output_type": "display_data"
    }
   ],
   "source": []
  },
  {
   "cell_type": "code",
   "execution_count": null,
   "id": "1dc07ccb",
   "metadata": {},
   "outputs": [],
   "source": []
  },
  {
   "cell_type": "code",
   "execution_count": null,
   "id": "860654d2",
   "metadata": {},
   "outputs": [],
   "source": []
  },
  {
   "cell_type": "code",
   "execution_count": null,
   "id": "557298ca",
   "metadata": {},
   "outputs": [],
   "source": []
  },
  {
   "cell_type": "code",
   "execution_count": null,
   "id": "3ef6de14",
   "metadata": {},
   "outputs": [],
   "source": []
  },
  {
   "cell_type": "code",
   "execution_count": null,
   "id": "9a3c93ca",
   "metadata": {},
   "outputs": [],
   "source": []
  },
  {
   "cell_type": "code",
   "execution_count": null,
   "id": "0ec883c4",
   "metadata": {},
   "outputs": [],
   "source": [
    "df_n[]=df[\"search\"]"
   ]
  },
  {
   "cell_type": "code",
   "execution_count": null,
   "id": "1087689e",
   "metadata": {},
   "outputs": [],
   "source": [
    "for column in df:\n",
    "    print(column)\n",
    "    for row in range(len(df[column])):\n",
    "        print(df[column][row])\n",
    "\n",
    "for row in range(len(df[\"ba\"])):\n",
    "    for column in df:\n",
    "        print(df[column][row])"
   ]
  }
 ],
 "metadata": {
  "kernelspec": {
   "display_name": "Python 3 (ipykernel)",
   "language": "python",
   "name": "python3"
  },
  "language_info": {
   "codemirror_mode": {
    "name": "ipython",
    "version": 3
   },
   "file_extension": ".py",
   "mimetype": "text/x-python",
   "name": "python",
   "nbconvert_exporter": "python",
   "pygments_lexer": "ipython3",
   "version": "3.9.13"
  }
 },
 "nbformat": 4,
 "nbformat_minor": 5
}
