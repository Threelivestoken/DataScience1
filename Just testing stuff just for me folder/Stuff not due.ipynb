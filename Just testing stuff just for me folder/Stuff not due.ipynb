{
 "cells": [
  {
   "cell_type": "code",
   "execution_count": 19,
   "id": "e0287dd3",
   "metadata": {},
   "outputs": [],
   "source": [
    "data={\n",
    "    \"Cats\":[12,10,6,18],\n",
    "    \"Dogs\":[35,97,102,7]\n",
    "}"
   ]
  },
  {
   "cell_type": "code",
   "execution_count": 23,
   "id": "479c03fd",
   "metadata": {},
   "outputs": [],
   "source": [
    "x=0\n",
    "xt=0\n",
    "for taco in range(4):\n",
    "    x=x+data[\"Cats\"][taco]\n",
    "    xt=xt+1\n",
    "avg_weight=x/xt"
   ]
  },
  {
   "cell_type": "code",
   "execution_count": 24,
   "id": "791213ef",
   "metadata": {},
   "outputs": [
    {
     "name": "stdout",
     "output_type": "stream",
     "text": [
      "11.5\n"
     ]
    }
   ],
   "source": [
    "print(avg_weight)"
   ]
  },
  {
   "cell_type": "code",
   "execution_count": 25,
   "id": "d7371810",
   "metadata": {},
   "outputs": [],
   "source": [
    "data={\n",
    "    \"Cats\":[12,10,6,18],\n",
    "    \"Dogs\":[35,97,102,7]\n",
    "}\n",
    "avg= sum(data[\"Cats\"])/len(data[\"Cats\"])"
   ]
  },
  {
   "cell_type": "code",
   "execution_count": 26,
   "id": "c41eab50",
   "metadata": {},
   "outputs": [
    {
     "name": "stdout",
     "output_type": "stream",
     "text": [
      "11.5\n"
     ]
    }
   ],
   "source": []
  },
  {
   "cell_type": "code",
   "execution_count": null,
   "id": "b9dbdcdb",
   "metadata": {},
   "outputs": [],
   "source": []
  }
 ],
 "metadata": {
  "kernelspec": {
   "display_name": "Python 3 (ipykernel)",
   "language": "python",
   "name": "python3"
  },
  "language_info": {
   "codemirror_mode": {
    "name": "ipython",
    "version": 3
   },
   "file_extension": ".py",
   "mimetype": "text/x-python",
   "name": "python",
   "nbconvert_exporter": "python",
   "pygments_lexer": "ipython3",
   "version": "3.9.13"
  }
 },
 "nbformat": 4,
 "nbformat_minor": 5
}
