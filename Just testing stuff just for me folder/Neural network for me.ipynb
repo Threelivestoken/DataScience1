{
 "cells": [
  {
   "cell_type": "code",
   "execution_count": 4,
   "id": "0c2d8e5d",
   "metadata": {},
   "outputs": [],
   "source": [
    "net1={\n",
    "    \"node\":[0,1,2,3],\n",
    "    \"bias\":[0,1,2,3],\n",
    "    \"mult\":[0,1,2,3],\n",
    "    \"in1\":[0,1,2,3],\n",
    "    \"in2\":[0,1,2,3],\n",
    "    \"out\":[0,1,2,3]\n",
    "}"
   ]
  },
  {
   "cell_type": "code",
   "execution_count": null,
   "id": "f01a2f76",
   "metadata": {},
   "outputs": [],
   "source": []
  },
  {
   "cell_type": "code",
   "execution_count": 5,
   "id": "fcedc610",
   "metadata": {},
   "outputs": [],
   "source": [
    "for i in range(len(net1[\"in1\"])):\n",
    "    o=net1[\"out\"][i]\n",
    "    i1=net1[\"in1\"][i]\n",
    "    i2=net1[\"in2\"][i]\n",
    "    #add inputs\n",
    "    net1[\"node\"][o]=net1[\"in1\"][i1]+net1[\"in2\"][i2]+net1[\"bias\"][i]\n",
    "    #multiply inputs by multiplyer\n",
    "    net1[\"node\"][o]=net1[\"node\"][o]*net1[\"mult\"][i]\n",
    "    #start of activation function\n",
    "    x=net1[\"node\"][o]\n",
    "    x=x/(x**2+1)**(1/2)\n",
    "    #set node to activated function\n",
    "    net1[\"node\"][o]=x"
   ]
  },
  {
   "cell_type": "code",
   "execution_count": 6,
   "id": "649aea41",
   "metadata": {},
   "outputs": [
    {
     "data": {
      "text/plain": [
       "{'node': [0.0, 0.9486832980505138, 0.9965457582448796, 0.9993148337667671],\n",
       " 'bias': [0, 1, 2, 3],\n",
       " 'mult': [0, 1, 2, 3],\n",
       " 'in1': [0, 1, 2, 3],\n",
       " 'in2': [0, 1, 2, 3],\n",
       " 'out': [0, 1, 2, 3]}"
      ]
     },
     "execution_count": 6,
     "metadata": {},
     "output_type": "execute_result"
    }
   ],
   "source": [
    "net1"
   ]
  },
  {
   "cell_type": "code",
   "execution_count": null,
   "id": "83592aea",
   "metadata": {},
   "outputs": [],
   "source": []
  },
  {
   "cell_type": "code",
   "execution_count": null,
   "id": "2e3e756f",
   "metadata": {},
   "outputs": [],
   "source": [
    "net1[\"node\"]="
   ]
  },
  {
   "cell_type": "code",
   "execution_count": null,
   "id": "19c0a2c6",
   "metadata": {},
   "outputs": [],
   "source": []
  },
  {
   "cell_type": "code",
   "execution_count": null,
   "id": "2bab0670",
   "metadata": {},
   "outputs": [],
   "source": [
    "z=x/(x**2+1)**(1/2)"
   ]
  },
  {
   "cell_type": "code",
   "execution_count": null,
   "id": "5eebdf18",
   "metadata": {},
   "outputs": [],
   "source": [
    "z"
   ]
  }
 ],
 "metadata": {
  "kernelspec": {
   "display_name": "Python 3 (ipykernel)",
   "language": "python",
   "name": "python3"
  },
  "language_info": {
   "codemirror_mode": {
    "name": "ipython",
    "version": 3
   },
   "file_extension": ".py",
   "mimetype": "text/x-python",
   "name": "python",
   "nbconvert_exporter": "python",
   "pygments_lexer": "ipython3",
   "version": "3.9.13"
  }
 },
 "nbformat": 4,
 "nbformat_minor": 5
}
