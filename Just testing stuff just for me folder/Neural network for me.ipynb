{
 "cells": [
  {
   "cell_type": "code",
   "execution_count": 1,
   "id": "4b5ee89e",
   "metadata": {},
   "outputs": [],
   "source": [
    "net1={\n",
    "    \"node\":[0,1,2,3],\n",
    "    \"bias\":[0,1,2,3],\n",
    "    \"mult\":[0,1,2,3],\n",
    "    \"in1\":[0,1,2,3],\n",
    "    \"in2\":[0,1,2,3],\n",
    "    \"out\":[0,1,2,3]\n",
    "}"
   ]
  },
  {
   "cell_type": "code",
   "execution_count": null,
   "id": "eab61e7a",
   "metadata": {},
   "outputs": [],
   "source": [
    "#testnetwork for inbetween variables\n",
    "nettest={\"node\":[],\"bias\":[],\"mult\":[],\"in1\":[],\"in2\":[],\"out\":[]}\n"
   ]
  },
  {
   "cell_type": "code",
   "execution_count": 3,
   "id": "69729377",
   "metadata": {},
   "outputs": [],
   "source": [
    "#run nettest\n",
    "for i in range(len(net1[\"in1\"])):\n",
    "    o=nettest[\"out\"][i]\n",
    "    i1=nettest[\"in1\"][i]\n",
    "    i2=nettest[\"in2\"][i]\n",
    "    #add inputs\n",
    "    nettest[\"node\"][o]=nettest[\"in1\"][i1]+nettest[\"in2\"][i2]+nettest[\"bias\"][i]\n",
    "    #multiply inputs by multiplyer\n",
    "    nettest[\"node\"][o]=nettest[\"node\"][o]*nettest[\"mult\"][i]\n",
    "    #start of activation function\n",
    "    x=nettest[\"node\"][o]\n",
    "    x=x/(x**2+1)**(1/2)\n",
    "    #set node to activated function\n",
    "    nettest[\"node\"][o]=x"
   ]
  },
  {
   "cell_type": "code",
   "execution_count": null,
   "id": "33d7bed6",
   "metadata": {},
   "outputs": [],
   "source": []
  },
  {
   "cell_type": "code",
   "execution_count": null,
   "id": "3c1fde79",
   "metadata": {},
   "outputs": [],
   "source": []
  },
  {
   "cell_type": "code",
   "execution_count": null,
   "id": "2191ed14",
   "metadata": {},
   "outputs": [],
   "source": [
    "net1[\"node\"]="
   ]
  },
  {
   "cell_type": "code",
   "execution_count": null,
   "id": "690751cc",
   "metadata": {},
   "outputs": [],
   "source": []
  },
  {
   "cell_type": "code",
   "execution_count": null,
   "id": "bb869bc1",
   "metadata": {},
   "outputs": [],
   "source": [
    "z=x/(x**2+1)**(1/2)"
   ]
  },
  {
   "cell_type": "code",
   "execution_count": null,
   "id": "ceb480af",
   "metadata": {},
   "outputs": [],
   "source": [
    "z"
   ]
  }
 ],
 "metadata": {
  "kernelspec": {
   "display_name": "Python 3 (ipykernel)",
   "language": "python",
   "name": "python3"
  },
  "language_info": {
   "codemirror_mode": {
    "name": "ipython",
    "version": 3
   },
   "file_extension": ".py",
   "mimetype": "text/x-python",
   "name": "python",
   "nbconvert_exporter": "python",
   "pygments_lexer": "ipython3",
   "version": "3.9.13"
  }
 },
 "nbformat": 4,
 "nbformat_minor": 5
}
