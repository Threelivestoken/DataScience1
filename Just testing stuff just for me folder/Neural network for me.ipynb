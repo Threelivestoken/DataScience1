{
 "cells": [
  {
   "cell_type": "code",
   "execution_count": 1,
   "id": "7d54da64",
   "metadata": {},
   "outputs": [],
   "source": [
    "#activate functions\n",
    "def activate1(b,m1,m2,in1,in2):\n",
    "    result = m1*(in1-b)/((in1-b)**2+1)**.5+m2*(in2-b)/((in2-b)**2+1)**.5\n",
    "    return result"
   ]
  },
  {
   "cell_type": "code",
   "execution_count": 2,
   "id": "4b5ee89e",
   "metadata": {},
   "outputs": [],
   "source": [
    "neural1={\n",
    "\"nodes\":[1,1,1,1],\n",
    "\"bias\":[1,0],\n",
    "\"out0\":[1,0],\n",
    "\"multO\":[1,0],\n",
    "\"in0\":[1,0],\n",
    "\"multI\":[1,0]\n",
    "}"
   ]
  },
  {
   "cell_type": "code",
   "execution_count": 6,
   "id": "eab61e7a",
   "metadata": {},
   "outputs": [],
   "source": [
    "for instruct in range(len(neural1[\"bias\"])):\n",
    "    bias=neural1[\"bias\"][instruct]\n",
    "    multO=neural1[\"multO\"][instruct]\n",
    "    multI=neural1[\"multI\"][instruct]\n",
    "    out0=neural1[\"nodes\"][neural1[\"out0\"][instruct]]\n",
    "    in0=neural1[\"nodes\"][neural1[\"in0\"][instruct]]\n",
    "    activate1(bias,multO,multI,out0,in0)\n",
    "    "
   ]
  },
  {
   "cell_type": "code",
   "execution_count": null,
   "id": "69729377",
   "metadata": {},
   "outputs": [],
   "source": [
    "\n",
    "for instruct in range(len(neural1[\"bias\"])):\n",
    "    bias=neural1[\"bias\"][instruct]\n",
    "    multO=neural1[\"multO\"][instruct]\n",
    "    multI=neural1[\"multI\"][instruct]\n",
    "    out0=neural1[\"nodes\"][neural1[\"out0\"][instruct]]\n",
    "    in0=neural1[\"nodes\"][neural1[\"in0\"][instruct]]\n",
    "    activate1(bias,multO,multI,out0,in0)\n",
    "    "
   ]
  },
  {
   "cell_type": "code",
   "execution_count": null,
   "id": "33d7bed6",
   "metadata": {},
   "outputs": [],
   "source": [
    "def add_numbers(a, b):\n",
    "    result = a + b\n",
    "    return result"
   ]
  },
  {
   "cell_type": "code",
   "execution_count": null,
   "id": "3c1fde79",
   "metadata": {},
   "outputs": [],
   "source": [
    "add_numbers(1,1)"
   ]
  },
  {
   "cell_type": "code",
   "execution_count": null,
   "id": "2191ed14",
   "metadata": {},
   "outputs": [],
   "source": [
    "activate1(1,1,1,1,1)"
   ]
  },
  {
   "cell_type": "code",
   "execution_count": null,
   "id": "690751cc",
   "metadata": {},
   "outputs": [],
   "source": []
  },
  {
   "cell_type": "code",
   "execution_count": null,
   "id": "bb869bc1",
   "metadata": {},
   "outputs": [],
   "source": []
  },
  {
   "cell_type": "code",
   "execution_count": null,
   "id": "ceb480af",
   "metadata": {},
   "outputs": [],
   "source": []
  }
 ],
 "metadata": {
  "kernelspec": {
   "display_name": "Python 3 (ipykernel)",
   "language": "python",
   "name": "python3"
  },
  "language_info": {
   "codemirror_mode": {
    "name": "ipython",
    "version": 3
   },
   "file_extension": ".py",
   "mimetype": "text/x-python",
   "name": "python",
   "nbconvert_exporter": "python",
   "pygments_lexer": "ipython3",
   "version": "3.9.13"
  }
 },
 "nbformat": 4,
 "nbformat_minor": 5
}
