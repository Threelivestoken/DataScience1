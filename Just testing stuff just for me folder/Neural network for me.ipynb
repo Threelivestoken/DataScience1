{
 "cells": [
  {
   "cell_type": "code",
   "execution_count": 1,
   "id": "7d54da64",
   "metadata": {},
   "outputs": [],
   "source": [
    "#activate functions\n",
    "def act1(a):\n",
    "    result = a/(a**2+1)**.5\n",
    "    return result"
   ]
  },
  {
   "cell_type": "code",
   "execution_count": 4,
   "id": "4b5ee89e",
   "metadata": {},
   "outputs": [],
   "source": [
    "n=[1,1,1,1,1,1,1,1,1]\n",
    "o=[1,2,3,4]\n",
    "i=[]\n",
    "b=[]\n",
    "m1=[]\n",
    "m2=[]"
   ]
  },
  {
   "cell_type": "code",
   "execution_count": 10,
   "id": "eab61e7a",
   "metadata": {},
   "outputs": [
    {
     "name": "stdout",
     "output_type": "stream",
     "text": [
      "i\n",
      "i\n",
      "i\n",
      "i\n"
     ]
    }
   ],
   "source": [
    "n[0]=1\n",
    "\n",
    "for i in range(len(o)):\n",
    "    print(\"i\")\n"
   ]
  },
  {
   "cell_type": "code",
   "execution_count": null,
   "id": "69729377",
   "metadata": {},
   "outputs": [],
   "source": []
  },
  {
   "cell_type": "code",
   "execution_count": null,
   "id": "33d7bed6",
   "metadata": {},
   "outputs": [],
   "source": [
    "def add_numbers(a, b):\n",
    "    result = a + b\n",
    "    return result"
   ]
  },
  {
   "cell_type": "code",
   "execution_count": null,
   "id": "3c1fde79",
   "metadata": {},
   "outputs": [],
   "source": [
    "add_numbers(1,1)"
   ]
  },
  {
   "cell_type": "code",
   "execution_count": null,
   "id": "2191ed14",
   "metadata": {},
   "outputs": [],
   "source": [
    "activate1(1,1,1,1,1)"
   ]
  },
  {
   "cell_type": "code",
   "execution_count": null,
   "id": "690751cc",
   "metadata": {},
   "outputs": [],
   "source": []
  },
  {
   "cell_type": "code",
   "execution_count": null,
   "id": "bb869bc1",
   "metadata": {},
   "outputs": [],
   "source": []
  },
  {
   "cell_type": "code",
   "execution_count": null,
   "id": "ceb480af",
   "metadata": {},
   "outputs": [],
   "source": []
  }
 ],
 "metadata": {
  "kernelspec": {
   "display_name": "Python 3 (ipykernel)",
   "language": "python",
   "name": "python3"
  },
  "language_info": {
   "codemirror_mode": {
    "name": "ipython",
    "version": 3
   },
   "file_extension": ".py",
   "mimetype": "text/x-python",
   "name": "python",
   "nbconvert_exporter": "python",
   "pygments_lexer": "ipython3",
   "version": "3.9.13"
  }
 },
 "nbformat": 4,
 "nbformat_minor": 5
}
