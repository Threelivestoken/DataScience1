{
 "cells": [
  {
   "cell_type": "code",
   "execution_count": 1,
   "id": "fb8a5474",
   "metadata": {},
   "outputs": [],
   "source": [
    "data = {\n",
    "    1: [\"A\",\"C\",\"E\"],\n",
    "    2: [\"B\",\"D\",\"F\"]\n",
    "}\n",
    "\n"
   ]
  },
  {
   "cell_type": "code",
   "execution_count": 2,
   "id": "003464ad",
   "metadata": {},
   "outputs": [
    {
     "name": "stdout",
     "output_type": "stream",
     "text": [
      "A\n",
      "B\n",
      "C\n",
      "D\n",
      "E\n",
      "F\n"
     ]
    }
   ],
   "source": [
    "#correct\n",
    "for taco in range(3):\n",
    "    print(data[1][taco])\n",
    "    print(data[2][taco])"
   ]
  },
  {
   "cell_type": "code",
   "execution_count": 3,
   "id": "3d8def7e",
   "metadata": {},
   "outputs": [
    {
     "name": "stdout",
     "output_type": "stream",
     "text": [
      "A\n",
      "B\n",
      "C\n",
      "D\n",
      "E\n",
      "F\n"
     ]
    }
   ],
   "source": [
    "#othercorrect\n",
    "for i in range(3):\n",
    "    for num in data:\n",
    "        print(data[num][i])"
   ]
  },
  {
   "cell_type": "code",
   "execution_count": 4,
   "id": "64870170",
   "metadata": {},
   "outputs": [
    {
     "name": "stdout",
     "output_type": "stream",
     "text": [
      "A\n",
      "C\n",
      "E\n",
      "B\n",
      "D\n",
      "F\n"
     ]
    }
   ],
   "source": [
    "#incorrect\n",
    "for d1 in data[1]:\n",
    "    print(d1)\n",
    "for d2 in data[2]:\n",
    "    print(d2)\n"
   ]
  },
  {
   "cell_type": "code",
   "execution_count": 14,
   "id": "02f58a93",
   "metadata": {},
   "outputs": [
    {
     "name": "stdout",
     "output_type": "stream",
     "text": [
      "A\n",
      "B\n",
      "C\n",
      "D\n"
     ]
    }
   ],
   "source": [
    "for taco in (0,1):\n",
    "    print(data[1][taco])\n",
    "    print(data[2][taco])"
   ]
  },
  {
   "cell_type": "code",
   "execution_count": null,
   "id": "fcf37765",
   "metadata": {},
   "outputs": [],
   "source": []
  }
 ],
 "metadata": {
  "kernelspec": {
   "display_name": "Python 3 (ipykernel)",
   "language": "python",
   "name": "python3"
  },
  "language_info": {
   "codemirror_mode": {
    "name": "ipython",
    "version": 3
   },
   "file_extension": ".py",
   "mimetype": "text/x-python",
   "name": "python",
   "nbconvert_exporter": "python",
   "pygments_lexer": "ipython3",
   "version": "3.9.13"
  }
 },
 "nbformat": 4,
 "nbformat_minor": 5
}
