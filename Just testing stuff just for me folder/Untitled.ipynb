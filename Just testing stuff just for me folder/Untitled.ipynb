{
 "cells": [
  {
   "cell_type": "code",
   "execution_count": null,
   "id": "203848ee",
   "metadata": {},
   "outputs": [],
   "source": [
    "nt={\n",
    "    \"node\":[],\n",
    "    \"mult\":[],\n",
    "    \"bias\":[],\n",
    "    \"in1\":[],\n",
    "    \"in2\":[],\n",
    "    \"o\":[],\n",
    "   }"
   ]
  },
  {
   "cell_type": "code",
   "execution_count": 32,
   "id": "5cfa82d9",
   "metadata": {},
   "outputs": [],
   "source": [
    "#activate something#1\n",
    "x=x/(x**2+1)**(1/2)"
   ]
  },
  {
   "cell_type": "code",
   "execution_count": 36,
   "id": "0fc75021",
   "metadata": {},
   "outputs": [
    {
     "data": {
      "text/plain": [
       "1.0"
      ]
     },
     "execution_count": 36,
     "metadata": {},
     "output_type": "execute_result"
    }
   ],
   "source": [
    "(x**2)**.5/2+x/2"
   ]
  },
  {
   "cell_type": "code",
   "execution_count": 34,
   "id": "9e6a3b73",
   "metadata": {},
   "outputs": [],
   "source": [
    "x=1"
   ]
  },
  {
   "cell_type": "code",
   "execution_count": null,
   "id": "b38762ff",
   "metadata": {},
   "outputs": [],
   "source": []
  }
 ],
 "metadata": {
  "kernelspec": {
   "display_name": "Python 3 (ipykernel)",
   "language": "python",
   "name": "python3"
  },
  "language_info": {
   "codemirror_mode": {
    "name": "ipython",
    "version": 3
   },
   "file_extension": ".py",
   "mimetype": "text/x-python",
   "name": "python",
   "nbconvert_exporter": "python",
   "pygments_lexer": "ipython3",
   "version": "3.9.13"
  }
 },
 "nbformat": 4,
 "nbformat_minor": 5
}
