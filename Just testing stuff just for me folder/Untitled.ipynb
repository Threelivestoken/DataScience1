{
 "cells": [
  {
   "cell_type": "code",
   "execution_count": null,
   "id": "8cbeab17",
   "metadata": {},
   "outputs": [],
   "source": [
    "nt={\n",
    "    \"node\":[],\n",
    "    \"mult\":[],\n",
    "    \"bias\":[],\n",
    "    \"in1\":[],\n",
    "    \"in2\":[],\n",
    "    \"o\":[],\n",
    "   }"
   ]
  },
  {
   "cell_type": "code",
   "execution_count": 27,
   "id": "c45fcb29",
   "metadata": {},
   "outputs": [
    {
     "name": "stdout",
     "output_type": "stream",
     "text": [
      "0.2500000000000001\n"
     ]
    }
   ],
   "source": [
    "#activate something#1\n",
    "print(x)\n",
    "x=x/(x**2+1)**(1/2)"
   ]
  },
  {
   "cell_type": "code",
   "execution_count": 11,
   "id": "deb914d3",
   "metadata": {},
   "outputs": [],
   "source": [
    "x=1"
   ]
  },
  {
   "cell_type": "code",
   "execution_count": null,
   "id": "cb41ffc8",
   "metadata": {},
   "outputs": [],
   "source": []
  }
 ],
 "metadata": {
  "kernelspec": {
   "display_name": "Python 3 (ipykernel)",
   "language": "python",
   "name": "python3"
  },
  "language_info": {
   "codemirror_mode": {
    "name": "ipython",
    "version": 3
   },
   "file_extension": ".py",
   "mimetype": "text/x-python",
   "name": "python",
   "nbconvert_exporter": "python",
   "pygments_lexer": "ipython3",
   "version": "3.9.13"
  }
 },
 "nbformat": 4,
 "nbformat_minor": 5
}
