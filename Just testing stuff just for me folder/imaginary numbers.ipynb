{
 "cells": [
  {
   "cell_type": "code",
   "execution_count": 38,
   "id": "d2f80230",
   "metadata": {},
   "outputs": [],
   "source": [
    "r=.25\n",
    "i=.25\n",
    "a=r\n",
    "b=i"
   ]
  },
  {
   "cell_type": "code",
   "execution_count": 47,
   "id": "77005116",
   "metadata": {},
   "outputs": [
    {
     "name": "stdout",
     "output_type": "stream",
     "text": [
      "-0.22767334511267742 -0.17178037486125622\n"
     ]
    }
   ],
   "source": [
    "\n",
    "for taco in range(99):\n",
    "    a=a**2-b**2-r\n",
    "    b=2*a*b-i\n",
    "print(a,b)"
   ]
  },
  {
   "cell_type": "code",
   "execution_count": null,
   "id": "eb0973dc",
   "metadata": {},
   "outputs": [],
   "source": []
  }
 ],
 "metadata": {
  "kernelspec": {
   "display_name": "Python 3 (ipykernel)",
   "language": "python",
   "name": "python3"
  },
  "language_info": {
   "codemirror_mode": {
    "name": "ipython",
    "version": 3
   },
   "file_extension": ".py",
   "mimetype": "text/x-python",
   "name": "python",
   "nbconvert_exporter": "python",
   "pygments_lexer": "ipython3",
   "version": "3.9.13"
  }
 },
 "nbformat": 4,
 "nbformat_minor": 5
}
