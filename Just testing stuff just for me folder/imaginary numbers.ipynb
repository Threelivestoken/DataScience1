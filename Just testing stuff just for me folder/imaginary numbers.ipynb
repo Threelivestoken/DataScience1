{
 "cells": [
  {
   "cell_type": "code",
   "execution_count": 18,
   "id": "6cd38c5b",
   "metadata": {},
   "outputs": [],
   "source": [
    "r=.7\n",
    "i=.65\n",
    "a=r\n",
    "b=i"
   ]
  },
  {
   "cell_type": "code",
   "execution_count": 29,
   "id": "59411b3d",
   "metadata": {},
   "outputs": [
    {
     "name": "stdout",
     "output_type": "stream",
     "text": [
      "-0.15022254280395564 -0.6216224007512811\n"
     ]
    }
   ],
   "source": [
    "\n",
    "for taco in range(100):\n",
    "    a=a**2-b**2-r\n",
    "    b=a*b-i\n",
    "print(a,b)"
   ]
  },
  {
   "cell_type": "code",
   "execution_count": null,
   "id": "6422688c",
   "metadata": {},
   "outputs": [],
   "source": []
  }
 ],
 "metadata": {
  "kernelspec": {
   "display_name": "Python 3 (ipykernel)",
   "language": "python",
   "name": "python3"
  },
  "language_info": {
   "codemirror_mode": {
    "name": "ipython",
    "version": 3
   },
   "file_extension": ".py",
   "mimetype": "text/x-python",
   "name": "python",
   "nbconvert_exporter": "python",
   "pygments_lexer": "ipython3",
   "version": "3.9.13"
  }
 },
 "nbformat": 4,
 "nbformat_minor": 5
}
