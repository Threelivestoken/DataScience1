{
 "cells": [
  {
   "cell_type": "code",
   "execution_count": 1,
   "id": "a11af44e",
   "metadata": {},
   "outputs": [],
   "source": [
    "import pandas as pandas"
   ]
  },
  {
   "cell_type": "code",
   "execution_count": 2,
   "id": "91eab14f",
   "metadata": {},
   "outputs": [],
   "source": [
    "pies = pandas.read_csv('pirates.csv')"
   ]
  },
  {
   "cell_type": "code",
   "execution_count": 3,
   "id": "16eceedd",
   "metadata": {},
   "outputs": [
    {
     "name": "stdout",
     "output_type": "stream",
     "text": [
      "34\n",
      "age\n",
      "1000\n",
      "headband\n",
      "635\n",
      "favorite.pirate\n",
      "137\n",
      "sword.time\n"
     ]
    }
   ],
   "source": [
    "for column in pies.columns:\n",
    "        for row in range(len(pies[column])):\n",
    "            if pandas.isna(pies.loc[row, column]):\n",
    "                print(row+1)\n",
    "                print(column)"
   ]
  },
  {
   "cell_type": "code",
   "execution_count": null,
   "id": "7bbede6c",
   "metadata": {},
   "outputs": [],
   "source": []
  }
 ],
 "metadata": {
  "kernelspec": {
   "display_name": "Python 3 (ipykernel)",
   "language": "python",
   "name": "python3"
  },
  "language_info": {
   "codemirror_mode": {
    "name": "ipython",
    "version": 3
   },
   "file_extension": ".py",
   "mimetype": "text/x-python",
   "name": "python",
   "nbconvert_exporter": "python",
   "pygments_lexer": "ipython3",
   "version": "3.9.13"
  }
 },
 "nbformat": 4,
 "nbformat_minor": 5
}
