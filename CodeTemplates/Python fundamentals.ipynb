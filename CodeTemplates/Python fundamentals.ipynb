{
 "cells": [
  {
   "cell_type": "code",
   "execution_count": null,
   "id": "4ed0ccdc",
   "metadata": {},
   "outputs": [],
   "source": [
    "pirates = {\n",
    "    \"P\":[\"Blackbeard\",\"Anne Bonny\",\"Calico Jack\",\"Cheung Po Tsai\",\"Grace O'Malley\",\"Mary Read\",\"Sayyida al Hurra\",\"Ching Shih\",\"Sir Francis Drake\",\"Jean Lafitte\"],\n",
    "    \"S\":[\"M\",\"F\",\"M\",\"M\",\"F\",\"F\",\"F\",\"F\",\"M\",\"M\"],\n",
    "    \"A\":[40,24,37,39,73,36,75,69,56,46],\n",
    "    \"H\":[6.4,5.6,5.6,5.3,5.0,5.1,0,5.3,5.5,6.2],\n",
    "    \"F\":[False, True, True, False, False, True, False, False, False, False]\n",
    "}"
   ]
  },
  {
   "cell_type": "code",
   "execution_count": null,
   "id": "31e18343",
   "metadata": {},
   "outputs": [],
   "source": [
    "for taco1 in pirates:\n",
    "    print(pirates[taco1][0])\n",
    "print(\"\")\n",
    "for taco2 in reversed(pirates[\"F\"]):\n",
    "    print(taco2)\n",
    "print(\"\")\n",
    "for i in range(0,10):\n",
    "    print(pirates[\"P\"][i],pirates[\"A\"][i],pirates[\"F\"][i])"
   ]
  },
  {
   "cell_type": "code",
   "execution_count": null,
   "id": "f333b665",
   "metadata": {},
   "outputs": [],
   "source": [
    "x=0\n",
    "for count in range(0,10):\n",
    "    if pirates[\"F\"][count]==True:\n",
    "        x=x+1\n",
    "print(x)\n",
    "\n",
    "\n",
    "\n",
    "#--------------------------------\n",
    "\n",
    "\n",
    "\n",
    "m=0\n",
    "tm=0\n",
    "f=0\n",
    "tf=0\n",
    "for Fe in range(0,10):\n",
    "    if pirates[\"S\"][Fe]==\"F\":\n",
    "        f=f+pirates[\"A\"][Fe]\n",
    "        tf=tf+1\n",
    "    else:\n",
    "        m=m+pirates[\"A\"][Fe]\n",
    "        tm=tm+1\n",
    "m=m/tm\n",
    "f=f/tf\n",
    "if m>f:\n",
    "    print(\"Men pirates lived longer at\",m,\"years!\")\n",
    "else:\n",
    "    print(\"Women pirates lived longer at\",f,\"year!\")\n",
    "\n",
    "\n",
    "\n",
    "#-------------------------\n",
    "\n",
    "\n",
    "\n",
    "m=0\n",
    "l=0\n",
    "t=0\n",
    "for Fe in range(0,10):\n",
    "    if pirates[\"H\"][Fe]<6.0:\n",
    "        if pirates[\"H\"][Fe]==0:\n",
    "            l=l\n",
    "        else:\n",
    "            l=l+1\n",
    "            t=t+1\n",
    "    else:\n",
    "        m=m+1\n",
    "        t=t+1\n",
    "m=100*m/t\n",
    "print(\"The percentage of pirates who were over or equal to 6 feet in height were,\",round(m*10)/10,\"%\")"
   ]
  },
  {
   "cell_type": "code",
   "execution_count": null,
   "id": "87381028",
   "metadata": {},
   "outputs": [],
   "source": []
  },
  {
   "cell_type": "code",
   "execution_count": null,
   "id": "3651dd1d",
   "metadata": {},
   "outputs": [],
   "source": []
  },
  {
   "cell_type": "code",
   "execution_count": null,
   "id": "0c36a7c0",
   "metadata": {},
   "outputs": [],
   "source": []
  },
  {
   "cell_type": "code",
   "execution_count": null,
   "id": "4d304272",
   "metadata": {},
   "outputs": [],
   "source": [
    "#print(pirates[\"P\"][0])\n",
    "#print(pirates[\"S\"][0])\n",
    "#print(pirates[\"A\"][0])\n",
    "#print(pirates[\"H\"][0])\n",
    "#print(pirates[\"F\"][0])\n"
   ]
  },
  {
   "cell_type": "code",
   "execution_count": null,
   "id": "c4d8bcab",
   "metadata": {},
   "outputs": [],
   "source": [
    "#print(pirates[\"F\"][9:0:-1])"
   ]
  },
  {
   "cell_type": "code",
   "execution_count": null,
   "id": "8cb5dd7d",
   "metadata": {},
   "outputs": [],
   "source": []
  }
 ],
 "metadata": {
  "kernelspec": {
   "display_name": "Python 3 (ipykernel)",
   "language": "python",
   "name": "python3"
  },
  "language_info": {
   "codemirror_mode": {
    "name": "ipython",
    "version": 3
   },
   "file_extension": ".py",
   "mimetype": "text/x-python",
   "name": "python",
   "nbconvert_exporter": "python",
   "pygments_lexer": "ipython3",
   "version": "3.9.13"
  }
 },
 "nbformat": 4,
 "nbformat_minor": 5
}
