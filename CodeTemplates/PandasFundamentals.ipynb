{
 "cells": [
  {
   "cell_type": "code",
   "execution_count": 1,
   "id": "8e2a3488",
   "metadata": {},
   "outputs": [],
   "source": [
    "import pandas as pd"
   ]
  },
  {
   "cell_type": "code",
   "execution_count": 2,
   "id": "c4470c1f",
   "metadata": {},
   "outputs": [],
   "source": [
    "df = pd.read_csv('pirates.csv') # This requires the csv file to be in the same folder as this Jupyter notebook."
   ]
  },
  {
   "cell_type": "code",
   "execution_count": 6,
   "id": "88d9e162",
   "metadata": {},
   "outputs": [
    {
     "name": "stdout",
     "output_type": "stream",
     "text": [
      "<class 'pandas.core.frame.DataFrame'>\n",
      "RangeIndex: 1000 entries, 0 to 999\n",
      "Data columns (total 17 columns):\n",
      " #   Column           Non-Null Count  Dtype  \n",
      "---  ------           --------------  -----  \n",
      " 0   id               1000 non-null   int64  \n",
      " 1   sex              1000 non-null   object \n",
      " 2   age              999 non-null    float64\n",
      " 3   height           1000 non-null   float64\n",
      " 4   weight           1000 non-null   float64\n",
      " 5   headband         999 non-null    object \n",
      " 6   college          1000 non-null   object \n",
      " 7   tattoos          1000 non-null   int64  \n",
      " 8   tchests          1000 non-null   int64  \n",
      " 9   parrots          1000 non-null   object \n",
      " 10  favorite.pirate  999 non-null    object \n",
      " 11  sword.type       1000 non-null   object \n",
      " 12  eyepatch         1000 non-null   int64  \n",
      " 13  sword.time       999 non-null    float64\n",
      " 14  beard.length     1000 non-null   int64  \n",
      " 15  fav.pixar        1000 non-null   object \n",
      " 16  grogg            1000 non-null   int64  \n",
      "dtypes: float64(4), int64(6), object(7)\n",
      "memory usage: 132.9+ KB\n"
     ]
    }
   ],
   "source": [
    "df.info()\n",
    "#Parrots has the object type of data"
   ]
  },
  {
   "cell_type": "code",
   "execution_count": null,
   "id": "554ff254",
   "metadata": {},
   "outputs": [],
   "source": [
    "#age,headband,favorite.pirate,sword.time\n",
    "#"
   ]
  },
  {
   "cell_type": "code",
   "execution_count": null,
   "id": "18a412ea",
   "metadata": {},
   "outputs": [],
   "source": []
  },
  {
   "cell_type": "code",
   "execution_count": null,
   "id": "7f5f7ede",
   "metadata": {},
   "outputs": [],
   "source": [
    "for column in df.columns:\n",
    "        for row in range(len(df[\"id\"])):\n",
    "            if pd.isna(df.loc[row, column]):\n",
    "                print(row+1)\n",
    "                print(column)"
   ]
  },
  {
   "cell_type": "code",
   "execution_count": null,
   "id": "611c2167",
   "metadata": {},
   "outputs": [],
   "source": [
    "j={}\n",
    "count=-1\n",
    "for column in df.columns:\n",
    "        for row in range(len(df[\"id\"])):\n",
    "            if pd.isna(df.loc[row, column]):\n",
    "                count=count+1\n",
    "                j[count]=[column,row+1]\n",
    "                print(row+1)\n",
    "                print(column)"
   ]
  },
  {
   "cell_type": "code",
   "execution_count": null,
   "id": "72d43318",
   "metadata": {},
   "outputs": [],
   "source": [
    "#9-13-2023"
   ]
  },
  {
   "cell_type": "code",
   "execution_count": null,
   "id": "a0c2d343",
   "metadata": {},
   "outputs": [],
   "source": [
    "#1\n",
    "m=0\n",
    "f=0\n",
    "o=0\n",
    "ts=0\n",
    "for i in range(len(df[\"sex\"])):\n",
    "    ts=ts+1\n",
    "    if df[\"sex\"][i]==\"female\":\n",
    "        f=f+1\n",
    "    else:\n",
    "        if df[\"sex\"][i]==\"male\":\n",
    "            m=m+1\n",
    "        else:\n",
    "            o=o+1\n",
    "print(100*m/ts,\"% were male,\",100*f/ts,\"& were female, &\",100*o/ts,\"% were other, with a total of\",len(df[\"sex\"].unique()))\n"
   ]
  },
  {
   "cell_type": "code",
   "execution_count": null,
   "id": "01c7ecaf",
   "metadata": {},
   "outputs": [],
   "source": [
    "fa=0\n",
    "tfa=0\n",
    "for i in range(len(df[\"age\"])):\n",
    "    if df[\"age\"][i] is None:\n",
    "        fa=fa\n",
    "    else:\n",
    "        if df[\"sex\"][i]==\"female\":\n",
    "            tfa=tfa+1\n",
    "            fa=fa+df[\"age\"][i]\n",
    "if df[\"sex\"]==\"female\":\n",
    "    \n",
    "print(\"The average age in this dataset is:\",df[\"age\"].mean(),\"& the average age for females in this dataset is:\",fa/tfa)"
   ]
  },
  {
   "cell_type": "code",
   "execution_count": null,
   "id": "08442503",
   "metadata": {},
   "outputs": [],
   "source": [
    "w=0\n",
    "tw=0\n",
    "for i in range(len(df[\"weight\"])):\n",
    "    tw=tw+1\n",
    "    if (df[\"weight\"][i]*2.2)<100:\n",
    "        w=w+1\n",
    "print(\"The percentage of pirates who were less than 100 pounds is\",100*w/tw,\"%!\")"
   ]
  },
  {
   "cell_type": "code",
   "execution_count": null,
   "id": "62e6372e",
   "metadata": {},
   "outputs": [],
   "source": [
    "df[\"weight_lb\"]=df[\"weight\"]*2.2\n",
    "percent = (df[\"weight_lb\"]<100).mean()*100"
   ]
  },
  {
   "cell_type": "code",
   "execution_count": null,
   "id": "2f106da5",
   "metadata": {},
   "outputs": [],
   "source": []
  },
  {
   "cell_type": "code",
   "execution_count": null,
   "id": "ae0e3d7a",
   "metadata": {},
   "outputs": [],
   "source": []
  },
  {
   "cell_type": "code",
   "execution_count": 3,
   "id": "37eb9d7d",
   "metadata": {},
   "outputs": [
    {
     "name": "stdout",
     "output_type": "stream",
     "text": [
      "The id number for the shortest pirate is 39\n",
      "The id number for the heaviest pirate is 2\n",
      "The most popular movie was 0    Inside Out\n",
      "Name: fav.pixar, dtype: object\n"
     ]
    }
   ],
   "source": [
    "#2\n",
    "ids=df[\"height\"].idxmin()\n",
    "print(\"The id number for the shortest pirate is\",ids+1)\n",
    "idh=df[\"weight\"].idxmax()\n",
    "print(\"The id number for the heaviest pirate is\",idh+1)\n",
    "pix=df[\"fav.pixar\"].mode()\n",
    "print(\"The most popular movie was\",pix)"
   ]
  },
  {
   "cell_type": "code",
   "execution_count": 41,
   "id": "bbb59f92",
   "metadata": {},
   "outputs": [
    {
     "name": "stdout",
     "output_type": "stream",
     "text": [
      "0.658\n",
      "1.0\n",
      "2.82\n",
      "2.0\n"
     ]
    }
   ],
   "source": [
    "#3\n",
    "df.loc[36,\"parrots\"]=1\n",
    "idx=0\n",
    "for i in df[\"parrots\"]:\n",
    "    df.loc[idx,\"parrots\"]=int(i)\n",
    "    idx = idx+1\n",
    "print(df[\"eyepatch\"].mean())\n",
    "print(df[\"eyepatch\"].median())\n",
    "print(df[\"parrots\"].mean())\n",
    "print(df[\"parrots\"].median())"
   ]
  },
  {
   "cell_type": "code",
   "execution_count": null,
   "id": "9fff5706",
   "metadata": {},
   "outputs": [],
   "source": []
  },
  {
   "cell_type": "code",
   "execution_count": 39,
   "id": "ee9a2b44",
   "metadata": {},
   "outputs": [],
   "source": []
  },
  {
   "cell_type": "code",
   "execution_count": 40,
   "id": "005c34ba",
   "metadata": {},
   "outputs": [
    {
     "data": {
      "text/plain": [
       "2.0"
      ]
     },
     "execution_count": 40,
     "metadata": {},
     "output_type": "execute_result"
    }
   ],
   "source": []
  },
  {
   "cell_type": "code",
   "execution_count": null,
   "id": "2b35150c",
   "metadata": {},
   "outputs": [],
   "source": []
  }
 ],
 "metadata": {
  "kernelspec": {
   "display_name": "Python 3 (ipykernel)",
   "language": "python",
   "name": "python3"
  },
  "language_info": {
   "codemirror_mode": {
    "name": "ipython",
    "version": 3
   },
   "file_extension": ".py",
   "mimetype": "text/x-python",
   "name": "python",
   "nbconvert_exporter": "python",
   "pygments_lexer": "ipython3",
   "version": "3.9.13"
  }
 },
 "nbformat": 4,
 "nbformat_minor": 5
}
