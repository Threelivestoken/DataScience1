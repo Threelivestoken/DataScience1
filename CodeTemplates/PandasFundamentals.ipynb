{
 "cells": [
  {
   "cell_type": "code",
   "execution_count": 1,
   "id": "8e2a3488",
   "metadata": {},
   "outputs": [],
   "source": [
    "import pandas as pd\n",
    "import random"
   ]
  },
  {
   "cell_type": "code",
   "execution_count": 2,
   "id": "c4470c1f",
   "metadata": {},
   "outputs": [],
   "source": [
    "# Challenge 1\n",
    "df = pd.read_csv(\"pirates.csv\") # This requires the csv file to be in the same folder as this Jupyter notebook."
   ]
  },
  {
   "cell_type": "code",
   "execution_count": null,
   "id": "a173ac52",
   "metadata": {},
   "outputs": [],
   "source": [
    "# Challlenge 2 - Part 1 & 2\n",
    "#df.info()\n",
    "df.head()"
   ]
  },
  {
   "cell_type": "code",
   "execution_count": null,
   "id": "b3070fda",
   "metadata": {},
   "outputs": [],
   "source": [
    "# Challenge 2 - Part 3\n",
    "for column in df.columns:\n",
    "    for row in range(len(df[\"id\"])):\n",
    "        if pd.isna(df.loc[row, column]):\n",
    "            print(row + 1)\n",
    "            print(column)"
   ]
  },
  {
   "cell_type": "code",
   "execution_count": null,
   "id": "2fa6fb63",
   "metadata": {},
   "outputs": [],
   "source": [
    "# Challenge 3\n",
    "# Technique 1\n",
    "# This drops all rows that contain a null value\n",
    "\n",
    "df.dropna(inplace=True)\n",
    "df.reset_index(inplace=True)"
   ]
  },
  {
   "cell_type": "code",
   "execution_count": null,
   "id": "d1e94e3b",
   "metadata": {},
   "outputs": [],
   "source": [
    "# Challenge 3\n",
    "# Technique 2\n",
    "# Drops just the age row that features a null\n",
    "\n",
    "# df.drop(33, inplace=True)"
   ]
  },
  {
   "cell_type": "code",
   "execution_count": null,
   "id": "bcebcfca",
   "metadata": {},
   "outputs": [],
   "source": [
    "# Challenge 3\n",
    "# Technique 3\n",
    "# Reassigns the missing value in age to the mean of ages\n",
    "\n",
    "# df.loc[33, \"age\"] = df[\"age\"].mean()"
   ]
  },
  {
   "cell_type": "code",
   "execution_count": null,
   "id": "e8b73f3d",
   "metadata": {},
   "outputs": [],
   "source": [
    "# Challenge 3\n",
    "# Technique 4\n",
    "# Reassigns the missing value in favorite.pirate to the mode\n",
    "\n",
    "# df.loc[634, \"favorite.pirate\"] = df[\"favorite.pirate\"].mode()[0]"
   ]
  },
  {
   "cell_type": "code",
   "execution_count": null,
   "id": "f7809459",
   "metadata": {},
   "outputs": [],
   "source": [
    "# Challenge 3\n",
    "# Technique 5\n",
    "# Assigns the missing age value to a random integer in the range of the smallest age in the dataset and the largest age in dataset\n",
    "# df.loc[33, \"age\"] = random.randint(df[\"age\"].min(), df[\"age\"].max())"
   ]
  },
  {
   "cell_type": "code",
   "execution_count": null,
   "id": "8908bdd3",
   "metadata": {},
   "outputs": [],
   "source": [
    "# Challenge 4 - Part 1\n",
    "df[\"sex\"].unique()"
   ]
  },
  {
   "cell_type": "code",
   "execution_count": null,
   "id": "558e6c49",
   "metadata": {},
   "outputs": [],
   "source": [
    "# Challenge 4 - Part 2\n",
    "avgAge = df[\"age\"].mean() # Average age of ALL pirates\n",
    "avgFemale = df[\"age\"][df[\"sex\"] == \"female\"].mean() # Average age of just female pirates"
   ]
  },
  {
   "cell_type": "code",
   "execution_count": null,
   "id": "4db81042",
   "metadata": {},
   "outputs": [],
   "source": [
    "# Challenge 4 - Part 3\n",
    "# Technique 1\n",
    "\n",
    "# df[\"weight_lb\"] = df[\"weight\"]*2.2\n",
    "# percent = (df[\"weight_lb\"] < 100).mean() * 100 "
   ]
  },
  {
   "cell_type": "code",
   "execution_count": null,
   "id": "39d713a0",
   "metadata": {},
   "outputs": [],
   "source": [
    "# Challenge 4 - Part 3\n",
    "# Technique 2\n",
    "\n",
    "count = 0\n",
    "for i in df[\"weight\"]:\n",
    "    if i < 45.3592: # 45.3592 is the kg equivalent of 100 pounds\n",
    "        count += 1\n",
    "\n",
    "percent = count/len(df[\"weight\"]) * 100"
   ]
  },
  {
   "cell_type": "code",
   "execution_count": null,
   "id": "c361c238",
   "metadata": {},
   "outputs": [],
   "source": [
    "# Challenge 5 - Part 1\n",
    "# Step 1 - Find smallest number using min\n",
    "# Step 2 - Find index value associated with that min using idxMin()\n",
    "# Step 3 - Add one to get ID\n",
    "\n",
    "idx = df[\"height\"].idxmin()\n",
    "print(idx)\n",
    "\n",
    "min = df[\"height\"].min()\n",
    "idx = df.index[df['height'] == 129.83].tolist()\n",
    "print(idx)"
   ]
  },
  {
   "cell_type": "code",
   "execution_count": null,
   "id": "063da346",
   "metadata": {},
   "outputs": [],
   "source": [
    "# Challenge 5 - Part 2\n",
    "# Step 1 - Use idxMax\n",
    "\n",
    "idx = df[\"weight\"].idxmax()\n",
    "=print(idx)"
   ]
  },
  {
   "cell_type": "code",
   "execution_count": null,
   "id": "2e0b46a5",
   "metadata": {},
   "outputs": [],
   "source": [
    "# Challenge 5 - Part 3\n",
    "# Step 1 - Mode of movie column\n",
    "\n",
    "df[\"fav.pixar\"].mode()[0]"
   ]
  },
  {
   "cell_type": "code",
   "execution_count": null,
   "id": "dcb316b9",
   "metadata": {},
   "outputs": [],
   "source": [
    "# Challenge 6 - Part 1\n",
    "# Step 1 - Calculate mean of eyepatches using mean()\n",
    "# Step 2 - Calculate median of eyepatches using median()\n",
    "\n",
    "df[\"eyepatch\"].mean()\n",
    "df[\"eyepatch\"].median()"
   ]
  },
  {
   "cell_type": "code",
   "execution_count": null,
   "id": "09784ab7",
   "metadata": {},
   "outputs": [],
   "source": [
    "# Challenge 6 - Part 2\n",
    "# Step 1 - Cast all parrot values to int\n",
    "# Step 2 - Calculate mean of eyepatches using mean()\n",
    "# Step 3 - Calculate median of eyepatches using median()\n",
    "\n",
    "df.loc[35, \"parrots\"] = 1\n",
    "idx = 0\n",
    "for i in df[\"parrots\"]:\n",
    "    df.loc[idx, \"parrots\"] = int(i)\n",
    "    idx = idx + 1\n",
    "\n",
    "df[\"parrots\"].mean()\n",
    "df[\"parrots\"].median()"
   ]
  },
  {
   "cell_type": "code",
   "execution_count": null,
   "id": "d2220764",
   "metadata": {},
   "outputs": [],
   "source": [
    "df[\"parrots\"][999]"
   ]
  },
  {
   "cell_type": "code",
   "execution_count": 3,
   "id": "c1c09d4e",
   "metadata": {},
   "outputs": [],
   "source": [
    "# Challenge 7 - Part 1 \n",
    "newrow_df = pd.read_csv(\"PirateNewRow.csv\")\n",
    "df = pd.concat([df, newrow_df], ignore_index=True)"
   ]
  },
  {
   "cell_type": "code",
   "execution_count": 4,
   "id": "e24dd93f",
   "metadata": {},
   "outputs": [],
   "source": [
    "# Challenge 7 - Part 2\n",
    "newcolumn_df = pd.read_csv(\"PirateNewColumn.csv\")\n",
    "merged_df = pd.merge(df,newcolumn_df, on='id', how='inner')"
   ]
  },
  {
   "cell_type": "code",
   "execution_count": null,
   "id": "b6d6d59d",
   "metadata": {},
   "outputs": [],
   "source": []
  },
  {
   "cell_type": "code",
   "execution_count": null,
   "id": "9a9a07ee",
   "metadata": {},
   "outputs": [],
   "source": []
  },
  {
   "cell_type": "code",
   "execution_count": null,
   "id": "a178b480",
   "metadata": {},
   "outputs": [],
   "source": []
  },
  {
   "cell_type": "code",
   "execution_count": null,
   "id": "e12e3557",
   "metadata": {},
   "outputs": [],
   "source": []
  }
 ],
 "metadata": {
  "kernelspec": {
   "display_name": "Python 3 (ipykernel)",
   "language": "python",
   "name": "python3"
  },
  "language_info": {
   "codemirror_mode": {
    "name": "ipython",
    "version": 3
   },
   "file_extension": ".py",
   "mimetype": "text/x-python",
   "name": "python",
   "nbconvert_exporter": "python",
   "pygments_lexer": "ipython3",
   "version": "3.9.13"
  }
 },
 "nbformat": 4,
 "nbformat_minor": 5
}
