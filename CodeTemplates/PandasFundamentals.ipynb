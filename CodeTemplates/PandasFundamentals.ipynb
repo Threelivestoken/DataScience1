{
 "cells": [
  {
   "cell_type": "code",
   "execution_count": 3,
   "id": "8e2a3488",
   "metadata": {},
   "outputs": [],
   "source": [
    "import pandas as pd"
   ]
  },
  {
   "cell_type": "code",
   "execution_count": 4,
   "id": "c4470c1f",
   "metadata": {},
   "outputs": [],
   "source": [
    "df = pd.read_csv(\"pirates.csv\") # This requires the csv file to be in the same folder as this Jupyter notebook."
   ]
  },
  {
   "cell_type": "code",
   "execution_count": null,
   "id": "88d9e162",
   "metadata": {},
   "outputs": [],
   "source": [
    "df.info()\n",
    "#Parrots has the object type of data"
   ]
  },
  {
   "cell_type": "code",
   "execution_count": null,
   "id": "554ff254",
   "metadata": {},
   "outputs": [],
   "source": [
    "#age,headband,favorite.pirate,sword.time\n",
    "#"
   ]
  },
  {
   "cell_type": "code",
   "execution_count": 6,
   "id": "18a412ea",
   "metadata": {},
   "outputs": [],
   "source": [
    "j={}\n"
   ]
  },
  {
   "cell_type": "code",
   "execution_count": null,
   "id": "7f5f7ede",
   "metadata": {},
   "outputs": [],
   "source": [
    "for column in df.columns:\n",
    "        for row in range(len(df[\"id\"])):\n",
    "            if pd.isna(df.loc[row, column]):\n",
    "                print(row+1)\n",
    "                print(column)"
   ]
  },
  {
   "cell_type": "code",
   "execution_count": 7,
   "id": "611c2167",
   "metadata": {},
   "outputs": [
    {
     "name": "stdout",
     "output_type": "stream",
     "text": [
      "34\n",
      "age\n",
      "1000\n",
      "headband\n",
      "635\n",
      "favorite.pirate\n",
      "137\n",
      "sword.time\n"
     ]
    }
   ],
   "source": [
    "count=-1\n",
    "for column in df.columns:\n",
    "        for row in range(len(df[\"id\"])):\n",
    "            if pd.isna(df.loc[row, column]):\n",
    "                count=count+1\n",
    "                j[count]=[column,row+1]\n",
    "                print(row+1)\n",
    "                print(column)"
   ]
  },
  {
   "cell_type": "code",
   "execution_count": 8,
   "id": "72d43318",
   "metadata": {},
   "outputs": [
    {
     "data": {
      "text/plain": [
       "{0: ['age', 34],\n",
       " 1: ['headband', 1000],\n",
       " 2: ['favorite.pirate', 635],\n",
       " 3: ['sword.time', 137]}"
      ]
     },
     "execution_count": 8,
     "metadata": {},
     "output_type": "execute_result"
    }
   ],
   "source": [
    "j"
   ]
  },
  {
   "cell_type": "code",
   "execution_count": null,
   "id": "a0c2d343",
   "metadata": {},
   "outputs": [],
   "source": []
  }
 ],
 "metadata": {
  "kernelspec": {
   "display_name": "Python 3 (ipykernel)",
   "language": "python",
   "name": "python3"
  },
  "language_info": {
   "codemirror_mode": {
    "name": "ipython",
    "version": 3
   },
   "file_extension": ".py",
   "mimetype": "text/x-python",
   "name": "python",
   "nbconvert_exporter": "python",
   "pygments_lexer": "ipython3",
   "version": "3.9.13"
  }
 },
 "nbformat": 4,
 "nbformat_minor": 5
}
