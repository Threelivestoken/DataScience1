{
 "cells": [
  {
   "cell_type": "code",
   "execution_count": 2,
   "id": "1e581573",
   "metadata": {},
   "outputs": [],
   "source": [
    "import pandas as pd"
   ]
  },
  {
   "cell_type": "code",
   "execution_count": 4,
   "id": "431a9032",
   "metadata": {},
   "outputs": [],
   "source": [
    "recipes = pd.read_csv('mydata.csv')"
   ]
  },
  {
   "cell_type": "code",
   "execution_count": null,
   "id": "486337ab",
   "metadata": {},
   "outputs": [],
   "source": [
    "import pandas as pd\n",
    "recipes=pd.Dataframe=({\n",
    "    \"A\":[1,3,5],\n",
    "    \"B\":[2,4,6]\n",
    "})\n"
   ]
  },
  {
   "cell_type": "code",
   "execution_count": null,
   "id": "7c5e0567",
   "metadata": {},
   "outputs": [],
   "source": []
  },
  {
   "cell_type": "code",
   "execution_count": null,
   "id": "109f3ced",
   "metadata": {},
   "outputs": [],
   "source": [
    "for taco in recipes(1):\n",
    "    recipes[taco]"
   ]
  },
  {
   "cell_type": "code",
   "execution_count": 6,
   "id": "7fa8a31e",
   "metadata": {},
   "outputs": [
    {
     "data": {
      "text/plain": [
       "'ba'"
      ]
     },
     "execution_count": 6,
     "metadata": {},
     "output_type": "execute_result"
    }
   ],
   "source": []
  },
  {
   "cell_type": "code",
   "execution_count": null,
   "id": "9bd4073e",
   "metadata": {},
   "outputs": [],
   "source": []
  }
 ],
 "metadata": {
  "kernelspec": {
   "display_name": "Python 3 (ipykernel)",
   "language": "python",
   "name": "python3"
  },
  "language_info": {
   "codemirror_mode": {
    "name": "ipython",
    "version": 3
   },
   "file_extension": ".py",
   "mimetype": "text/x-python",
   "name": "python",
   "nbconvert_exporter": "python",
   "pygments_lexer": "ipython3",
   "version": "3.9.13"
  }
 },
 "nbformat": 4,
 "nbformat_minor": 5
}
