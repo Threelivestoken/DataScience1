{
 "cells": [
  {
   "cell_type": "code",
   "execution_count": 1,
   "id": "6e5378fb",
   "metadata": {},
   "outputs": [],
   "source": [
    "x = 3"
   ]
  },
  {
   "cell_type": "code",
   "execution_count": 2,
   "id": "df251912",
   "metadata": {},
   "outputs": [
    {
     "name": "stdout",
     "output_type": "stream",
     "text": [
      "3\n"
     ]
    }
   ],
   "source": [
    "print(x)"
   ]
  },
  {
   "cell_type": "code",
   "execution_count": 3,
   "id": "683abba3",
   "metadata": {},
   "outputs": [],
   "source": [
    "pirate = [\"Blackbeard\",\"Anne Bonny\",\"Calico Jack\",\"Cheung Po Tsai\",\"Grace O'Malley\",\"Mary Read\",\"Sayyida al Hurra\",\"Ching Shih\",\"Sir Francis Drake\",\"Jean Lafitte\"]\n",
    "\n",
    "sex = [\"M\",\"F\",\"M\",\"M\",\"F\",\"F\",\"F\",\"F\",\"M\",\"M\"]\n",
    "\n",
    "age = [40,24,37,39,73,36,75,69,56,46]\n",
    "\n",
    "height = [\"6'4\",\"5'6\",\"5'6\",\"5'3\",\"5'0\",\"5'1\",\"N/A\",\"5'3\",\"5'5\",\"6'2\"]\n",
    "\n",
    "flag = [\"did not use\",\"used\",\"used\",\"did not use\",\"did not use\",\"used\",\"did not use\",\"did not use\",\"did not use\",\"did not use\"]"
   ]
  },
  {
   "cell_type": "code",
   "execution_count": null,
   "id": "1c6b5f03",
   "metadata": {},
   "outputs": [],
   "source": [
    "pirates {\n",
    "    \"Pirate\":[\"Blackbeard\",\"Anne Bonny\",\"Calico Jack\",\"Cheung Po Tsai\",\"Grace O'Malley\",\"Mary Read\",\"Sayyida al Hurra\",\"Ching Shih\",\"Sir Francis Drake\",\"Jean Lafitte\"],\n",
    "    \"Sex\":[\"M\",\"F\",\"M\",\"M\",\"F\",\"F\",\"F\",\"F\",\"M\",\"M\"],\n",
    "    \"age at death\":[40,24,37,39,73,36,75,69,56,46],\n",
    "    \"height\":[\"6'4\",\"5'6\",\"5'6\",\"5'3\",\"5'0\",\"5'1\",\"N/A\",\"5'3\",\"5'5\",\"6'2\"],\n",
    "    \"flag\":[False, True, True, False, False, True,]\n",
    "}"
   ]
  },
  {
   "cell_type": "code",
   "execution_count": 4,
   "id": "d4cf83c7",
   "metadata": {},
   "outputs": [
    {
     "ename": "TypeError",
     "evalue": "can only concatenate str (not \"int\") to str",
     "output_type": "error",
     "traceback": [
      "\u001b[1;31m---------------------------------------------------------------------------\u001b[0m",
      "\u001b[1;31mTypeError\u001b[0m                                 Traceback (most recent call last)",
      "\u001b[1;32m~\\AppData\\Local\\Temp\\ipykernel_10112\\2270853027.py\u001b[0m in \u001b[0;36m<module>\u001b[1;34m\u001b[0m\n\u001b[1;32m----> 1\u001b[1;33m \u001b[0mprint\u001b[0m\u001b[1;33m(\u001b[0m\u001b[0mpirate\u001b[0m\u001b[1;33m[\u001b[0m\u001b[0mx\u001b[0m\u001b[1;33m]\u001b[0m\u001b[1;33m+\u001b[0m\u001b[1;34m\" was \"\u001b[0m\u001b[1;33m+\u001b[0m\u001b[0mage\u001b[0m\u001b[1;33m[\u001b[0m\u001b[0mx\u001b[0m\u001b[1;33m]\u001b[0m\u001b[1;33m)\u001b[0m\u001b[1;33m\u001b[0m\u001b[1;33m\u001b[0m\u001b[0m\n\u001b[0m\u001b[0;32m      2\u001b[0m \u001b[0mprint\u001b[0m\u001b[1;33m(\u001b[0m\u001b[1;36m0\u001b[0m\u001b[1;33m)\u001b[0m\u001b[1;33m\u001b[0m\u001b[1;33m\u001b[0m\u001b[0m\n\u001b[0;32m      3\u001b[0m \u001b[0mprint\u001b[0m\u001b[1;33m(\u001b[0m\u001b[1;36m0\u001b[0m\u001b[1;33m)\u001b[0m\u001b[1;33m\u001b[0m\u001b[1;33m\u001b[0m\u001b[0m\n\u001b[0;32m      4\u001b[0m \u001b[0mprint\u001b[0m\u001b[1;33m(\u001b[0m\u001b[1;34m\" year old \"\u001b[0m\u001b[1;33m)\u001b[0m\u001b[1;33m\u001b[0m\u001b[1;33m\u001b[0m\u001b[0m\n\u001b[0;32m      5\u001b[0m \u001b[0mprint\u001b[0m\u001b[1;33m(\u001b[0m\u001b[0msex\u001b[0m\u001b[1;33m[\u001b[0m\u001b[0mx\u001b[0m\u001b[1;33m]\u001b[0m\u001b[1;33m)\u001b[0m\u001b[1;33m\u001b[0m\u001b[1;33m\u001b[0m\u001b[0m\n",
      "\u001b[1;31mTypeError\u001b[0m: can only concatenate str (not \"int\") to str"
     ]
    }
   ],
   "source": [
    "print(pirate[x]+\" was \"+age[x])\n",
    "print(0)\n",
    "print(0)\n",
    "print(\" year old \")\n",
    "print(sex[x])\n",
    "print(\" pirate when they died. They were \")\n",
    "print(height[x])\n",
    "print(\", and \")\n",
    "print(flag[x])\n",
    "print(\" the Skull & Crossbones flag.\")"
   ]
  },
  {
   "cell_type": "code",
   "execution_count": null,
   "id": "e58d0101",
   "metadata": {},
   "outputs": [],
   "source": []
  }
 ],
 "metadata": {
  "kernelspec": {
   "display_name": "Python 3 (ipykernel)",
   "language": "python",
   "name": "python3"
  },
  "language_info": {
   "codemirror_mode": {
    "name": "ipython",
    "version": 3
   },
   "file_extension": ".py",
   "mimetype": "text/x-python",
   "name": "python",
   "nbconvert_exporter": "python",
   "pygments_lexer": "ipython3",
   "version": "3.9.13"
  }
 },
 "nbformat": 4,
 "nbformat_minor": 5
}
