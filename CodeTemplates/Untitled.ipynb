{
 "cells": [
  {
   "cell_type": "code",
   "execution_count": null,
   "id": "4ed0ccdc",
   "metadata": {},
   "outputs": [],
   "source": [
    "x = 3"
   ]
  },
  {
   "cell_type": "code",
   "execution_count": null,
   "id": "51c02df0",
   "metadata": {},
   "outputs": [],
   "source": [
    "print(x)"
   ]
  },
  {
   "cell_type": "code",
   "execution_count": 10,
   "id": "4858b8d9",
   "metadata": {},
   "outputs": [],
   "source": [
    "pirate = [\"Blackbeard\",\"Anne Bonny\",\"Calico Jack\",\"Cheung Po Tsai\",\"Grace O'Malley\",\"Mary Read\",\"Sayyida al Hurra\",\"Ching Shih\",\"Sir Francis Drake\",\"Jean Lafitte\"]\n",
    "\n",
    "sex = [\"M\",\"F\",\"M\",\"M\",\"F\",\"F\",\"F\",\"F\",\"M\",\"M\"]\n",
    "\n",
    "age = [40,24,37,39,73,36,75,69,56,46]\n",
    "\n",
    "height = [\"6'4\",\"5'6\",\"5'6\",\"5'3\",\"5'0\",\"5'1\",\"N/A\",\"5'3\",\"5'5\",\"6'2\"]\n",
    "\n",
    "flag = [False, True, True, False, False, True, False, False, False, False]"
   ]
  },
  {
   "cell_type": "code",
   "execution_count": null,
   "id": "9af25067",
   "metadata": {},
   "outputs": [],
   "source": [
    "pirates = {\n",
    "    \"Pirate\":[\"Blackbeard\",\"Anne Bonny\",\"Calico Jack\",\"Cheung Po Tsai\",\"Grace O'Malley\",\"Mary Read\",\"Sayyida al Hurra\",\"Ching Shih\",\"Sir Francis Drake\",\"Jean Lafitte\"],\n",
    "    \"Sex\":[\"M\",\"F\",\"M\",\"M\",\"F\",\"F\",\"F\",\"F\",\"M\",\"M\"],\n",
    "    \"age at death\":[40,24,37,39,73,36,75,69,56,46],\n",
    "    \"height\":[\"6'4\",\"5'6\",\"5'6\",\"5'3\",\"5'0\",\"5'1\",\"N/A\",\"5'3\",\"5'5\",\"6'2\"],\n",
    "    \"flag\":[False, True, True, False, False, True, False, False, False, False]\n",
    "}"
   ]
  },
  {
   "cell_type": "code",
   "execution_count": 28,
   "id": "6570cb44",
   "metadata": {},
   "outputs": [
    {
     "name": "stdout",
     "output_type": "stream",
     "text": [
      "Blackbeard M 40 6'4 False\n",
      "False 6'2 46 M Jean Lafitte\n",
      "\n",
      "Blackbeard 40 False\n",
      "Anne Bonny 24 True\n",
      "Calico Jack 37 True\n",
      "Cheung Po Tsai 39 False\n",
      "Grace O'Malley 73 False\n",
      "Mary Read 36 True\n",
      "Sayyida al Hurra 75 False\n",
      "Ching Shih 69 False\n",
      "Sir Francis Drake 56 False\n",
      "Jean Lafitte 46 False\n"
     ]
    }
   ],
   "source": [
    "print(pirate[0],sex[0],age[0],height[0],flag[0])\n",
    "print(flag[9],height[9],age[9],sex[9],pirate[9])\n",
    "print(\"\")\n",
    "print(pirate[0],age[0],flag[0])\n",
    "print(pirate[1],age[1],flag[1])\n",
    "print(pirate[2],age[2],flag[2])\n",
    "print(pirate[3],age[3],flag[3])\n",
    "print(pirate[4],age[4],flag[4])\n",
    "print(pirate[5],age[5],flag[5])\n",
    "print(pirate[6],age[6],flag[6])\n",
    "print(pirate[7],age[7],flag[7])\n",
    "print(pirate[8],age[8],flag[8])\n",
    "print(pirate[9],age[9],flag[9])"
   ]
  },
  {
   "cell_type": "code",
   "execution_count": null,
   "id": "77d7102f",
   "metadata": {},
   "outputs": [],
   "source": [
    "print(pirates[1,1])"
   ]
  },
  {
   "cell_type": "code",
   "execution_count": null,
   "id": "31e18343",
   "metadata": {},
   "outputs": [],
   "source": []
  }
 ],
 "metadata": {
  "kernelspec": {
   "display_name": "Python 3 (ipykernel)",
   "language": "python",
   "name": "python3"
  },
  "language_info": {
   "codemirror_mode": {
    "name": "ipython",
    "version": 3
   },
   "file_extension": ".py",
   "mimetype": "text/x-python",
   "name": "python",
   "nbconvert_exporter": "python",
   "pygments_lexer": "ipython3",
   "version": "3.9.13"
  }
 },
 "nbformat": 4,
 "nbformat_minor": 5
}
