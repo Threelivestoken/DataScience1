{
 "cells": [
  {
   "cell_type": "code",
   "execution_count": null,
   "id": "4ed0ccdc",
   "metadata": {},
   "outputs": [],
   "source": [
    "x = 3"
   ]
  },
  {
   "cell_type": "code",
   "execution_count": null,
   "id": "51c02df0",
   "metadata": {},
   "outputs": [],
   "source": [
    "print(x)"
   ]
  },
  {
   "cell_type": "code",
   "execution_count": 2,
   "id": "4858b8d9",
   "metadata": {},
   "outputs": [],
   "source": [
    "pirate = [\"Blackbeard\",\"Anne Bonny\",\"Calico Jack\",\"Cheung Po Tsai\",\"Grace O'Malley\",\"Mary Read\",\"Sayyida al Hurra\",\"Ching Shih\",\"Sir Francis Drake\",\"Jean Lafitte\"]\n",
    "\n",
    "sex = [\"M\",\"F\",\"M\",\"M\",\"F\",\"F\",\"F\",\"F\",\"M\",\"M\"]\n",
    "\n",
    "age = [40,24,37,39,73,36,75,69,56,46]\n",
    "\n",
    "height = [\"6'4\",\"5'6\",\"5'6\",\"5'3\",\"5'0\",\"5'1\",\"N/A\",\"5'3\",\"5'5\",\"6'2\"]\n",
    "\n",
    "flag = [False, True, True, False, False, True, False, False, False, False]"
   ]
  },
  {
   "cell_type": "code",
   "execution_count": 1,
   "id": "9af25067",
   "metadata": {},
   "outputs": [],
   "source": [
    "pirates = {\n",
    "    \"Pirate\":[\"Blackbeard\",\"Anne Bonny\",\"Calico Jack\",\"Cheung Po Tsai\",\"Grace O'Malley\",\"Mary Read\",\"Sayyida al Hurra\",\"Ching Shih\",\"Sir Francis Drake\",\"Jean Lafitte\"],\n",
    "    \"Sex\":[\"M\",\"F\",\"M\",\"M\",\"F\",\"F\",\"F\",\"F\",\"M\",\"M\"],\n",
    "    \"age at death\":[40,24,37,39,73,36,75,69,56,46],\n",
    "    \"height\":[\"6'4\",\"5'6\",\"5'6\",\"5'3\",\"5'0\",\"5'1\",\"N/A\",\"5'3\",\"5'5\",\"6'2\"],\n",
    "    \"flag\":[False, True, True, False, False, True, False, False, False, False]\n",
    "}"
   ]
  },
  {
   "cell_type": "code",
   "execution_count": null,
   "id": "6570cb44",
   "metadata": {},
   "outputs": [],
   "source": [
    "print(pirate[0],sex[0],age[0],height[0],flag[0])\n",
    "print(flag[9],height[9],age[9],sex[9],pirate[9])\n",
    "print(\"\")\n",
    "print(pirate[0],age[0],flag[0])\n",
    "print(pirate[1],age[1],flag[1])\n",
    "print(pirate[2],age[2],flag[2])\n",
    "print(pirate[3],age[3],flag[3])\n",
    "print(pirate[4],age[4],flag[4])\n",
    "print(pirate[5],age[5],flag[5])\n",
    "print(pirate[6],age[6],flag[6])\n",
    "print(pirate[7],age[7],flag[7])\n",
    "print(pirate[8],age[8],flag[8])\n",
    "print(pirate[9],age[9],flag[9])"
   ]
  },
  {
   "cell_type": "code",
   "execution_count": 12,
   "id": "77d7102f",
   "metadata": {},
   "outputs": [
    {
     "ename": "TypeError",
     "evalue": "'dict' object is not callable",
     "output_type": "error",
     "traceback": [
      "\u001b[1;31m---------------------------------------------------------------------------\u001b[0m",
      "\u001b[1;31mTypeError\u001b[0m                                 Traceback (most recent call last)",
      "\u001b[1;32m~\\AppData\\Local\\Temp\\ipykernel_14848\\345604814.py\u001b[0m in \u001b[0;36m<module>\u001b[1;34m\u001b[0m\n\u001b[1;32m----> 1\u001b[1;33m \u001b[0mprint\u001b[0m\u001b[1;33m(\u001b[0m\u001b[0mpirates\u001b[0m\u001b[1;33m(\u001b[0m\u001b[0mpirate\u001b[0m\u001b[1;33m)\u001b[0m\u001b[1;33m)\u001b[0m\u001b[1;33m\u001b[0m\u001b[1;33m\u001b[0m\u001b[0m\n\u001b[0m",
      "\u001b[1;31mTypeError\u001b[0m: 'dict' object is not callable"
     ]
    }
   ],
   "source": [
    "print(pirates(pirate))"
   ]
  },
  {
   "cell_type": "code",
   "execution_count": null,
   "id": "31e18343",
   "metadata": {},
   "outputs": [],
   "source": []
  }
 ],
 "metadata": {
  "kernelspec": {
   "display_name": "Python 3 (ipykernel)",
   "language": "python",
   "name": "python3"
  },
  "language_info": {
   "codemirror_mode": {
    "name": "ipython",
    "version": 3
   },
   "file_extension": ".py",
   "mimetype": "text/x-python",
   "name": "python",
   "nbconvert_exporter": "python",
   "pygments_lexer": "ipython3",
   "version": "3.9.13"
  }
 },
 "nbformat": 4,
 "nbformat_minor": 5
}
