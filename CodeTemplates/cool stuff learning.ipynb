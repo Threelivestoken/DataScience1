{
 "cells": [
  {
   "cell_type": "code",
   "execution_count": 1,
   "id": "9d741fc8",
   "metadata": {},
   "outputs": [],
   "source": [
    "data = {\n",
    "    1: [\"A\",\"C\",\"E\"],\n",
    "    2: [\"B\",\"D\",\"F\"]\n",
    "}\n",
    "\n"
   ]
  },
  {
   "cell_type": "code",
   "execution_count": 2,
   "id": "450dc10a",
   "metadata": {},
   "outputs": [
    {
     "name": "stdout",
     "output_type": "stream",
     "text": [
      "A\n",
      "B\n",
      "C\n",
      "D\n",
      "E\n",
      "F\n"
     ]
    }
   ],
   "source": [
    "#correct\n",
    "for taco in range(3):\n",
    "    print(data[1][taco])\n",
    "    print(data[2][taco])"
   ]
  },
  {
   "cell_type": "code",
   "execution_count": 3,
   "id": "13a1121e",
   "metadata": {},
   "outputs": [
    {
     "name": "stdout",
     "output_type": "stream",
     "text": [
      "A\n",
      "B\n",
      "C\n",
      "D\n",
      "E\n",
      "F\n"
     ]
    }
   ],
   "source": [
    "#othercorrect\n",
    "for i in range(3):\n",
    "    for num in data:\n",
    "        print(data[num][i])"
   ]
  },
  {
   "cell_type": "code",
   "execution_count": 4,
   "id": "e5e9c089",
   "metadata": {},
   "outputs": [
    {
     "name": "stdout",
     "output_type": "stream",
     "text": [
      "A\n",
      "C\n",
      "E\n",
      "B\n",
      "D\n",
      "F\n"
     ]
    }
   ],
   "source": [
    "#incorrect\n",
    "for d1 in data[1]:\n",
    "    print(d1)\n",
    "for d2 in data[2]:\n",
    "    print(d2)\n"
   ]
  },
  {
   "cell_type": "code",
   "execution_count": null,
   "id": "2d4b13f9",
   "metadata": {},
   "outputs": [],
   "source": [
    "for taco in range(1,3):\n",
    "    print(data[taco][taco])\n",
    "    print(data[taco][taco])"
   ]
  },
  {
   "cell_type": "code",
   "execution_count": null,
   "id": "a9d869ac",
   "metadata": {},
   "outputs": [],
   "source": []
  }
 ],
 "metadata": {
  "kernelspec": {
   "display_name": "Python 3 (ipykernel)",
   "language": "python",
   "name": "python3"
  },
  "language_info": {
   "codemirror_mode": {
    "name": "ipython",
    "version": 3
   },
   "file_extension": ".py",
   "mimetype": "text/x-python",
   "name": "python",
   "nbconvert_exporter": "python",
   "pygments_lexer": "ipython3",
   "version": "3.9.13"
  }
 },
 "nbformat": 4,
 "nbformat_minor": 5
}
