{
 "cells": [
  {
   "cell_type": "code",
   "execution_count": 1,
   "id": "e3fcf833",
   "metadata": {},
   "outputs": [],
   "source": [
    "import pandas as pd\n",
    "import requests\n",
    "from bs4 import BeautifulSoup"
   ]
  },
  {
   "cell_type": "code",
   "execution_count": 2,
   "id": "a7f7bd7b",
   "metadata": {},
   "outputs": [],
   "source": [
    "#soup = BeautifulSoup(\"<p>Some<b>bad<i>HTML\")\n",
    "#print(soup.prettify())"
   ]
  },
  {
   "cell_type": "code",
   "execution_count": null,
   "id": "6e78e564",
   "metadata": {},
   "outputs": [],
   "source": [
    "#focus on creating a list of the urls, url is the list with urls\n",
    "let=[\"B\",\"C\",\"D\",\"F\",\"G\",\"H\",\"J\",\"K\",\"L\",\"M\",\"N\",\"P\",\"Q\",\"R\",\"S\",\"T\",\"V\",\"W\",\"X\",\"Y\",\"Z\"]\n",
    "vow=[\"A\",\"E\",\"I\",\"O\",\"U\"]\n",
    "url=[\"\",\"\",\"\",\"\",\"\",\"\",\"\",\"\",\"\",\"\",\"\",\"\",\"\",\"\",\"\",\"\",\"\",\"\",\"\",\"\",\"\",\"\",\"\",\"\",\"\",\"\",\"\",\"\",\"\",\"\",\"\",\"\",\"\",\"\",\"\",\"\",\"\",\"\",\"\",\"\",\"\",\"\",\"\",\"\",\"\",\"\",\"\",\"\",\"\",\"\",\"\",\"\",\"\",\"\",\"\",\"\",\"\",\"\",\"\",\"\",\"\",\"\",\"\",\"\",\"\",\"\",\"\",\"\",\"\",\"\",\"\",\"\",\"\",\"\",\"\",\"\",\"\",\"\",\"\",\"\",\"\",\"\",\"\",\"\",\"\",\"\",\"\",\"\",\"\",\"\",\"\",\"\",\"\",\"\",\"\",\"\",\"\",\"\",\"\",\"\",\"\",\"\",\"\",\"\",\"\"]\n",
    "for first in range(len(vow)):\n",
    "    for second in range(len(let)):\n",
    "        url[second+21*(first-1)]=let[second]+vow[first-1]\n",
    "#url=page\n",
    "for taco in range(len(url)):\n",
    "    url[taco]=\"https://en.wikipedia.org/wiki/\"+url[taco]\n",
    "#print(url)\n",
    "#len(url)\n",
    "#print(url)"
   ]
  },
  {
   "cell_type": "code",
   "execution_count": null,
   "id": "8ccd9a1c",
   "metadata": {},
   "outputs": [],
   "source": [
    "response=url\n",
    "#for taco in range(len(url)):\n",
    "url_=url[taco]\n",
    "responseurl = requests.get(url_)\n",
    "response[taco]=responseurl\n",
    "#for taco in range(len(response)):\n",
    "soup = BeautifulSoup(response[taco].text, 'html.parser')\n",
    "links = soup.find_all('a')\n",
    "total_links=links\n",
    "for taco in range(len(links)):\n",
    "    total_links[taco] = len(links[taco])\n",
    "\n",
    "\n",
    "#link_count_all=[0,0,0,0,0,0,0,0,0,0,0,0,0,0,0,0,0,0,0,0,0,0,0,0,0,0,0,0,0,0,0,0,0,0,0,0,0,0,0,0,0,0,0,0,0,0,0,0,0,0,0,0,0,0,0,0,0,0,0,0,0,0,0,0,0,0,0,0,0,0,0,0,0,0,0,0,0,0,0,0,0,0,0,0,0,0,0,0,0,0,0,0,0,0,0,0,0,0,0,0,0,0,0,0,0]\n",
    "#link_count=0\n",
    "#for lego in range(len(link_count_all)):\n",
    "#    for taco in links[lego]:\n",
    "#        href = taco.get('href')\n",
    "#        if href and href.startswith('/wiki/'):\n",
    "#            link_count=link_count+1\n",
    "#    link_count_all[lego]=link_count\n"
   ]
  },
  {
   "cell_type": "code",
   "execution_count": null,
   "id": "2810ca68",
   "metadata": {},
   "outputs": [],
   "source": [
    "total_links"
   ]
  },
  {
   "cell_type": "code",
   "execution_count": 3,
   "id": "f72d3523",
   "metadata": {},
   "outputs": [],
   "source": [
    "url = 'https://en.wikipedia.org/wiki/Ba'\n",
    "response = requests.get(url)\n",
    "soup = BeautifulSoup(response.text, 'html.parser')\n",
    "links = soup.find_all('a')\n",
    "link_count=0\n",
    "for taco in links:\n",
    "    href = taco.get('href')\n",
    "    if href and href.startswith('/wiki/'):\n",
    "        link_count=link_count+1\n"
   ]
  },
  {
   "cell_type": "code",
   "execution_count": 4,
   "id": "1983b1fd",
   "metadata": {},
   "outputs": [
    {
     "data": {
      "text/plain": [
       "97"
      ]
     },
     "execution_count": 4,
     "metadata": {},
     "output_type": "execute_result"
    }
   ],
   "source": [
    "link_count"
   ]
  },
  {
   "cell_type": "code",
   "execution_count": null,
   "id": "56da4593",
   "metadata": {},
   "outputs": [],
   "source": []
  }
 ],
 "metadata": {
  "kernelspec": {
   "display_name": "Python 3 (ipykernel)",
   "language": "python",
   "name": "python3"
  },
  "language_info": {
   "codemirror_mode": {
    "name": "ipython",
    "version": 3
   },
   "file_extension": ".py",
   "mimetype": "text/x-python",
   "name": "python",
   "nbconvert_exporter": "python",
   "pygments_lexer": "ipython3",
   "version": "3.9.13"
  }
 },
 "nbformat": 4,
 "nbformat_minor": 5
}
