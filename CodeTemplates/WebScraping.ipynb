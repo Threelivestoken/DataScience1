{
 "cells": [
  {
   "cell_type": "code",
   "execution_count": 1,
   "id": "e3fcf833",
   "metadata": {},
   "outputs": [],
   "source": [
    "import pandas as pd\n",
    "import requests\n",
    "from bs4 import BeautifulSoup"
   ]
  },
  {
   "cell_type": "code",
   "execution_count": 2,
   "id": "a7f7bd7b",
   "metadata": {},
   "outputs": [],
   "source": [
    "#soup = BeautifulSoup(\"<p>Some<b>bad<i>HTML\")\n",
    "#print(soup.prettify())"
   ]
  },
  {
   "cell_type": "code",
   "execution_count": 3,
   "id": "2a81063c",
   "metadata": {},
   "outputs": [],
   "source": [
    "#focus on creating a list of the urls, url is the list with urls\n",
    "let=[\"B\",\"C\",\"D\",\"F\",\"G\",\"H\",\"J\",\"K\",\"L\",\"M\",\"N\",\"P\",\"Q\",\"R\",\"S\",\"T\",\"V\",\"W\",\"X\",\"Y\",\"Z\"]\n",
    "vow=[\"a\",\"e\",\"i\",\"o\",\"u\"]\n",
    "url=[\"\",\"\",\"\",\"\",\"\",\"\",\"\",\"\",\"\",\"\",\"\",\"\",\"\",\"\",\"\",\"\",\"\",\"\",\"\",\"\",\"\",\"\",\"\",\"\",\"\",\"\",\"\",\"\",\"\",\"\",\"\",\"\",\"\",\"\",\"\",\"\",\"\",\"\",\"\",\"\",\"\",\"\",\"\",\"\",\"\",\"\",\"\",\"\",\"\",\"\",\"\",\"\",\"\",\"\",\"\",\"\",\"\",\"\",\"\",\"\",\"\",\"\",\"\",\"\",\"\",\"\",\"\",\"\",\"\",\"\",\"\",\"\",\"\",\"\",\"\",\"\",\"\",\"\",\"\",\"\",\"\",\"\",\"\",\"\",\"\",\"\",\"\",\"\",\"\",\"\",\"\",\"\",\"\",\"\",\"\",\"\",\"\",\"\",\"\",\"\",\"\",\"\",\"\",\"\",\"\"]\n",
    "for first in range(len(vow)):\n",
    "    for second in range(len(let)):\n",
    "        url[second+len(let)*(first-1)]=let[second]+vow[first-1]\n",
    "#url=page\n",
    "for taco in range(len(url)):\n",
    "    url[taco]=\"https://en.wikipedia.org/wiki/\"+url[taco]\n",
    "#print(url)\n",
    "#len(url)\n",
    "#print(url)"
   ]
  },
  {
   "cell_type": "code",
   "execution_count": 4,
   "id": "8ccd9a1c",
   "metadata": {},
   "outputs": [],
   "source": [
    "#get data\n",
    "response=[]\n",
    "url\n",
    "for taco in range(len(url)):\n",
    "    response.append(requests.get(url[taco]))\n",
    "\n",
    "\n",
    "    \n",
    "#for taco in range(len(response)):\n",
    "#    soup = BeautifulSoup(response[taco].text, 'html.parser')\n",
    "#    links = soup.find_all('a')\n",
    "#    total_links=links\n",
    "#for taco in range(len(links)):\n",
    "#    total_links[taco] = len(links[taco])\n",
    "\n",
    "\n",
    "#link_count_all=[0,0,0,0,0,0,0,0,0,0,0,0,0,0,0,0,0,0,0,0,0,0,0,0,0,0,0,0,0,0,0,0,0,0,0,0,0,0,0,0,0,0,0,0,0,0,0,0,0,0,0,0,0,0,0,0,0,0,0,0,0,0,0,0,0,0,0,0,0,0,0,0,0,0,0,0,0,0,0,0,0,0,0,0,0,0,0,0,0,0,0,0,0,0,0,0,0,0,0,0,0,0,0,0,0]\n",
    "#link_count=0\n",
    "#for lego in range(len(link_count_all)):\n",
    "#    for taco in links[lego]:\n",
    "#        href = taco.get('href')\n",
    "#        if href and href.startswith('/wiki/'):\n",
    "#            link_count=link_count+1\n",
    "#    link_count_all[lego]=link_count\n"
   ]
  },
  {
   "cell_type": "code",
   "execution_count": 5,
   "id": "032e6861",
   "metadata": {},
   "outputs": [],
   "source": [
    "#for taco in range(len(response)):\n",
    "#    soup = BeautifulSoup(response[taco].text, 'html.parser')\n",
    "#    links = soup.find_all('a')\n",
    "#    total_links=links\n",
    "#for taco in range(len(links)):\n",
    "#    total_links[taco] = len(links[taco])\n",
    "soup=[]\n",
    "links=[]\n",
    "total_links=[]\n",
    "#get links as a list\n",
    "for taco in range(len(url)):\n",
    "    soup.append(BeautifulSoup(response[taco].text, 'html.parser'))\n",
    "for taco in range(len(url)):\n",
    "    links.append(soup[taco].find_all('a'))\n",
    "    \n",
    "    \n",
    "    \n",
    "#delete the following or hide it:\n",
    "for taco in range(len(url)):\n",
    "    total_links.append(len(links[taco]))"
   ]
  },
  {
   "cell_type": "code",
   "execution_count": null,
   "id": "80382f9c",
   "metadata": {},
   "outputs": [],
   "source": []
  },
  {
   "cell_type": "code",
   "execution_count": 6,
   "id": "6e52b6f9",
   "metadata": {},
   "outputs": [],
   "source": [
    "link_count=0\n",
    "link_count_list=[]\n",
    "for salsa in range(len(url)):\n",
    "    for taco in links[salsa]:\n",
    "        href = taco.get('href')\n",
    "        if href and href.startswith('/wiki/'):\n",
    "            link_count=link_count+1\n",
    "    link_count_list.append(link_count)"
   ]
  },
  {
   "cell_type": "code",
   "execution_count": null,
   "id": "2810ca68",
   "metadata": {},
   "outputs": [],
   "source": [
    "link_count_list"
   ]
  },
  {
   "cell_type": "code",
   "execution_count": null,
   "id": "f72d3523",
   "metadata": {},
   "outputs": [],
   "source": [
    "url = 'https://en.wikipedia.org/wiki/Ba'\n",
    "response = requests.get(url)\n",
    "soup = BeautifulSoup(response.text, 'html.parser')\n",
    "links = soup.find_all('a')\n",
    "link_count=0\n",
    "for taco in links:\n",
    "    href = taco.get('href')\n",
    "    if href and href.startswith('/wiki/'):\n",
    "        link_count=link_count+1\n"
   ]
  },
  {
   "cell_type": "code",
   "execution_count": null,
   "id": "1983b1fd",
   "metadata": {},
   "outputs": [],
   "source": [
    "link_count"
   ]
  },
  {
   "cell_type": "code",
   "execution_count": null,
   "id": "56da4593",
   "metadata": {},
   "outputs": [],
   "source": []
  },
  {
   "cell_type": "code",
   "execution_count": null,
   "id": "0680064b",
   "metadata": {},
   "outputs": [],
   "source": []
  }
 ],
 "metadata": {
  "kernelspec": {
   "display_name": "Python 3 (ipykernel)",
   "language": "python",
   "name": "python3"
  },
  "language_info": {
   "codemirror_mode": {
    "name": "ipython",
    "version": 3
   },
   "file_extension": ".py",
   "mimetype": "text/x-python",
   "name": "python",
   "nbconvert_exporter": "python",
   "pygments_lexer": "ipython3",
   "version": "3.9.13"
  }
 },
 "nbformat": 4,
 "nbformat_minor": 5
}
