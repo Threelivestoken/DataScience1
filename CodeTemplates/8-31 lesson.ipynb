{
 "cells": [
  {
   "cell_type": "code",
   "execution_count": 1,
   "id": "b33107db",
   "metadata": {},
   "outputs": [],
   "source": [
    "p1={\n",
    "    \"n\":[\"Edward teach\",\"Anne Bonny\",\"John Rackham\",\"Cheung Po Tsai\",\"Grace O'Malley\",\"Mary Read\",\"Sayyida al Hurra\",\"Zheng Yi Sao\",\"Francis Drake\",\"Jean Lafitte\"],\n",
    "    \"y\":[[1716,1718],[1718,1720],[1718,1720],[1798,1810],[1564,1595],[1708,1721],[1515,1545],[1801,1810],[1563,1596],[1810,1823]],\n",
    "    \"s\":[\"Caribbean\",\"Caribbean\",\"Caribbean\",\"South China sea\",\"British Isles\",\"Caribbean\",\"Mediterranean\",\"South China Sea\",\"Caribbean\",\"Gulf of Mexico\"],\n",
    "    \"a\":[\"Blackbeard\",\"\",\"Calico Jack\",\"The Kid\",\"Queen of Ireland\",\"Mark\",\"Hakimat Titwan\",\"Ching Shih\",\"Sir Francis Drake\",\"Terror of the Gulf\"]\n",
    "}\n"
   ]
  },
  {
   "cell_type": "code",
   "execution_count": null,
   "id": "a620e8f1",
   "metadata": {},
   "outputs": [],
   "source": [
    "for i in range(0,10):\n",
    "    print(\"\",p1[\"n\"][i],\":[\",p1[\"y\"][i],\",\",p1[\"s\"][i],\",\",p1[\"a\"][i],\"],\")"
   ]
  },
  {
   "cell_type": "code",
   "execution_count": null,
   "id": "cff6bc14",
   "metadata": {},
   "outputs": [],
   "source": [
    "p2={\n",
    "    \"Edward teach\":    [ [1716, 1718] , \"Caribbean\" , \"Blackbeard\"],\n",
    "    \"Anne Bonny\":      [ [1718, 1720] , \"Caribbean\" , \"\"],\n",
    "    \"John Rackham\":    [ [1718, 1720] , \"Caribbean\" , \"Calico Jack\"],\n",
    "    \"Cheung Po Tsai\":  [ [1798, 1810] , \"South China sea\" , \"The Kid\"],\n",
    "    \"Grace O'Malley\":  [ [1564, 1595] , \"British Isles\" , \"Queen of Ireland\"],\n",
    "    \"Mary Read\":       [ [1708, 1721] , \"Caribbean\" , \"Mark\"],\n",
    "    \"Sayyida al Hurra\":[ [1515, 1545] , \"Mediterranean\" , \"Hakimat Titwan\"],\n",
    "    \"Zheng Yi Sao\":    [ [1801, 1810] , \"South China Sea\" , \"Ching Shih\"],\n",
    "    \"Francis Drake\":   [ [1563, 1596] , \"Caribbean\" , \"Sir Francis Drake\"],\n",
    "    \"Jean Lafitte\":    [ [1810, 1823] , \"Gulf of Mexico\" , \"Terror of the Gulf\"]\n",
    "}\n"
   ]
  },
  {
   "cell_type": "code",
   "execution_count": 2,
   "id": "0a15bb91",
   "metadata": {},
   "outputs": [
    {
     "name": "stdout",
     "output_type": "stream",
     "text": [
      "0 Pirates sailed the Caribbean during the 18th Century\n"
     ]
    }
   ],
   "source": [
    "#How many pirates sailed the Cribbean during the 18th century\n",
    "ps=0\n",
    "ply=p1[\"y\"]\n",
    "for lol in range(0,10):\n",
    "    if p1[\"s\"][lol]==\"Caribbean\":\n",
    "        if >ply[lol][1]>1799 or ply[lol][0]>1799:\n",
    "            ps=ps+1\n",
    "print(ps,\"Pirates sailed the Caribbean during the 18th Century\")"
   ]
  },
  {
   "cell_type": "code",
   "execution_count": null,
   "id": "ec1bcdb4",
   "metadata": {},
   "outputs": [],
   "source": [
    "ps1=0\n",
    "ply=p1[\"y\"]\n",
    "for lol in range(0,10):\n",
    "    if ply[lol][1]-ply[lol][0]>ply[ps1][1]-ply[ps1][0]:\n",
    "        ps1=lol\n",
    "print(\"The pirate\",p1[\"n\"][ps],\"had the longest career of the pirates at\",ply[ps1][1]-ply[ps1][0],\"years!\")"
   ]
  },
  {
   "cell_type": "code",
   "execution_count": null,
   "id": "3d25c9f3",
   "metadata": {},
   "outputs": [],
   "source": [
    "ps2=0\n",
    "ply=p1[\"y\"]\n",
    "for lol in range(0,10):\n",
    "    ps2=ps2+ply[lol][1]-ply[lol][0]\n",
    "    \n",
    "print(\"The average amount of time a pirate was active was\",ps2/10,\"years!\")"
   ]
  },
  {
   "cell_type": "code",
   "execution_count": null,
   "id": "ddaaec35",
   "metadata": {},
   "outputs": [],
   "source": []
  }
 ],
 "metadata": {
  "kernelspec": {
   "display_name": "Python 3 (ipykernel)",
   "language": "python",
   "name": "python3"
  },
  "language_info": {
   "codemirror_mode": {
    "name": "ipython",
    "version": 3
   },
   "file_extension": ".py",
   "mimetype": "text/x-python",
   "name": "python",
   "nbconvert_exporter": "python",
   "pygments_lexer": "ipython3",
   "version": "3.9.13"
  }
 },
 "nbformat": 4,
 "nbformat_minor": 5
}
