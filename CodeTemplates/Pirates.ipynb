{
 "cells": [
  {
   "cell_type": "code",
   "execution_count": 1,
   "id": "4ed0ccdc",
   "metadata": {},
   "outputs": [],
   "source": [
    "pirates = {\n",
    "    \"P\":[\"Blackbeard\",\"Anne Bonny\",\"Calico Jack\",\"Cheung Po Tsai\",\"Grace O'Malley\",\"Mary Read\",\"Sayyida al Hurra\",\"Ching Shih\",\"Sir Francis Drake\",\"Jean Lafitte\"],\n",
    "    \"S\":[\"M\",\"F\",\"M\",\"M\",\"F\",\"F\",\"F\",\"F\",\"M\",\"M\"],\n",
    "    \"A\":[40,24,37,39,73,36,75,69,56,46],\n",
    "    \"H\":[6.4,5.6,5.6,5.3,5.0,5.1,\"N/A\",5.3,5.5,6.2],\n",
    "    \"F\":[False, True, True, False, False, True, False, False, False, False]\n",
    "}"
   ]
  },
  {
   "cell_type": "code",
   "execution_count": null,
   "id": "31e18343",
   "metadata": {},
   "outputs": [],
   "source": [
    "for taco1 in pirates:\n",
    "    print(pirates[taco1][0])\n",
    "print(\"\")\n",
    "for taco2 in reversed(pirates[\"F\"]):\n",
    "    print(taco2)\n",
    "print(\"\")\n",
    "for i in range(0,10):\n",
    "    print(pirates[\"P\"][i],pirates[\"A\"][i],pirates[\"F\"][i])"
   ]
  },
  {
   "cell_type": "code",
   "execution_count": 2,
   "id": "f333b665",
   "metadata": {},
   "outputs": [
    {
     "name": "stdout",
     "output_type": "stream",
     "text": [
      "3\n"
     ]
    }
   ],
   "source": [
    "x=0\n",
    "for count in range(0,10):\n",
    "    if pirates[\"F\"][count]==True:\n",
    "        x=x+1\n",
    "print(x)"
   ]
  },
  {
   "cell_type": "code",
   "execution_count": 8,
   "id": "87381028",
   "metadata": {},
   "outputs": [
    {
     "name": "stdout",
     "output_type": "stream",
     "text": [
      "Women lived longer\n"
     ]
    }
   ],
   "source": [
    "m=0\n",
    "f=0\n",
    "for Fe in range(0,10):\n",
    "    if pirates[\"S\"][Fe]==\"F\":\n",
    "        f=f+pirates[\"A\"][Fe]\n",
    "for Ma in range(0,10):\n",
    "    if pirates[\"S\"][Ma]==\"M\":\n",
    "        m=m+pirates[\"A\"][Ma]\n",
    "if m>f:\n",
    "    print(\"Men lived longer\")\n",
    "else:\n",
    "    print(\"Women lived longer\")\n",
    "        "
   ]
  },
  {
   "cell_type": "code",
   "execution_count": 20,
   "id": "3651dd1d",
   "metadata": {},
   "outputs": [
    {
     "name": "stdout",
     "output_type": "stream",
     "text": [
      "Women pirates lived longer at 55.4 year!\n"
     ]
    }
   ],
   "source": [
    "m=0\n",
    "tm=0\n",
    "f=0\n",
    "tf=0\n",
    "for Fe in range(0,10):\n",
    "    if pirates[\"S\"][Fe]==\"F\":\n",
    "        f=f+pirates[\"A\"][Fe]\n",
    "        tf=tf+1\n",
    "    else:\n",
    "        m=m+pirates[\"A\"][Fe]\n",
    "        tm=tm+1\n",
    "m=m/tm\n",
    "f=f/tf\n",
    "if m>f:\n",
    "    print(\"Men pirates lived longer at\",m,\"years!\")\n",
    "else:\n",
    "    print(\"Women pirates lived longer at\",f,\"year!\")\n",
    "        "
   ]
  },
  {
   "cell_type": "code",
   "execution_count": 29,
   "id": "0c36a7c0",
   "metadata": {},
   "outputs": [
    {
     "ename": "TypeError",
     "evalue": "'<' not supported between instances of 'str' and 'float'",
     "output_type": "error",
     "traceback": [
      "\u001b[1;31m---------------------------------------------------------------------------\u001b[0m",
      "\u001b[1;31mTypeError\u001b[0m                                 Traceback (most recent call last)",
      "\u001b[1;32m~\\AppData\\Local\\Temp\\ipykernel_14924\\2225715248.py\u001b[0m in \u001b[0;36m<module>\u001b[1;34m\u001b[0m\n\u001b[0;32m      3\u001b[0m \u001b[0mt\u001b[0m\u001b[1;33m=\u001b[0m\u001b[1;36m0\u001b[0m\u001b[1;33m\u001b[0m\u001b[1;33m\u001b[0m\u001b[0m\n\u001b[0;32m      4\u001b[0m \u001b[1;32mfor\u001b[0m \u001b[0mFe\u001b[0m \u001b[1;32min\u001b[0m \u001b[0mrange\u001b[0m\u001b[1;33m(\u001b[0m\u001b[1;36m0\u001b[0m\u001b[1;33m,\u001b[0m\u001b[1;36m10\u001b[0m\u001b[1;33m)\u001b[0m\u001b[1;33m:\u001b[0m\u001b[1;33m\u001b[0m\u001b[1;33m\u001b[0m\u001b[0m\n\u001b[1;32m----> 5\u001b[1;33m     \u001b[1;32mif\u001b[0m \u001b[0mpirates\u001b[0m\u001b[1;33m[\u001b[0m\u001b[1;34m\"H\"\u001b[0m\u001b[1;33m]\u001b[0m\u001b[1;33m[\u001b[0m\u001b[0mFe\u001b[0m\u001b[1;33m]\u001b[0m\u001b[1;33m<\u001b[0m\u001b[1;36m6.0\u001b[0m\u001b[1;33m:\u001b[0m\u001b[1;33m\u001b[0m\u001b[1;33m\u001b[0m\u001b[0m\n\u001b[0m\u001b[0;32m      6\u001b[0m         \u001b[1;32mif\u001b[0m \u001b[0mpirates\u001b[0m\u001b[1;33m[\u001b[0m\u001b[1;34m\"H\"\u001b[0m\u001b[1;33m]\u001b[0m\u001b[1;33m[\u001b[0m\u001b[0mFe\u001b[0m\u001b[1;33m]\u001b[0m\u001b[1;33m==\u001b[0m\u001b[1;34m\"N/A\"\u001b[0m\u001b[1;33m:\u001b[0m\u001b[1;33m\u001b[0m\u001b[1;33m\u001b[0m\u001b[0m\n\u001b[0;32m      7\u001b[0m             \u001b[0ml\u001b[0m\u001b[1;33m=\u001b[0m\u001b[0ml\u001b[0m\u001b[1;33m\u001b[0m\u001b[1;33m\u001b[0m\u001b[0m\n",
      "\u001b[1;31mTypeError\u001b[0m: '<' not supported between instances of 'str' and 'float'"
     ]
    }
   ],
   "source": [
    "m=0\n",
    "l=0\n",
    "t=0\n",
    "for Fe in range(0,10):\n",
    "    if pirates[\"H\"][Fe]<6.0:\n",
    "        if pirates[\"H\"][Fe]==\"N/A\":\n",
    "            l=l\n",
    "        else:\n",
    "            l=l+1\n",
    "            t=t+1\n",
    "    else:\n",
    "        m=m+1\n",
    "        t=t+1"
   ]
  },
  {
   "cell_type": "code",
   "execution_count": null,
   "id": "4d304272",
   "metadata": {},
   "outputs": [],
   "source": [
    "#print(pirates[\"P\"][0])\n",
    "#print(pirates[\"S\"][0])\n",
    "#print(pirates[\"A\"][0])\n",
    "#print(pirates[\"H\"][0])\n",
    "#print(pirates[\"F\"][0])\n"
   ]
  },
  {
   "cell_type": "code",
   "execution_count": null,
   "id": "c4d8bcab",
   "metadata": {},
   "outputs": [],
   "source": [
    "#print(pirates[\"F\"][9:0:-1])"
   ]
  },
  {
   "cell_type": "code",
   "execution_count": null,
   "id": "8cb5dd7d",
   "metadata": {},
   "outputs": [],
   "source": []
  }
 ],
 "metadata": {
  "kernelspec": {
   "display_name": "Python 3 (ipykernel)",
   "language": "python",
   "name": "python3"
  },
  "language_info": {
   "codemirror_mode": {
    "name": "ipython",
    "version": 3
   },
   "file_extension": ".py",
   "mimetype": "text/x-python",
   "name": "python",
   "nbconvert_exporter": "python",
   "pygments_lexer": "ipython3",
   "version": "3.9.13"
  }
 },
 "nbformat": 4,
 "nbformat_minor": 5
}
