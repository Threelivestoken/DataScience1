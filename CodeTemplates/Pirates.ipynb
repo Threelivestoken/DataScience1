{
 "cells": [
  {
   "cell_type": "code",
   "execution_count": null,
   "id": "4ed0ccdc",
   "metadata": {},
   "outputs": [],
   "source": [
    "x = 3"
   ]
  },
  {
   "cell_type": "code",
   "execution_count": null,
   "id": "51c02df0",
   "metadata": {},
   "outputs": [],
   "source": [
    "print(x)"
   ]
  },
  {
   "cell_type": "code",
   "execution_count": null,
   "id": "4858b8d9",
   "metadata": {},
   "outputs": [],
   "source": [
    "pirate = [\"Blackbeard\",\"Anne Bonny\",\"Calico Jack\",\"Cheung Po Tsai\",\"Grace O'Malley\",\"Mary Read\",\"Sayyida al Hurra\",\"Ching Shih\",\"Sir Francis Drake\",\"Jean Lafitte\"]\n",
    "\n",
    "sex = [\"M\",\"F\",\"M\",\"M\",\"F\",\"F\",\"F\",\"F\",\"M\",\"M\"]\n",
    "\n",
    "age = [40,24,37,39,73,36,75,69,56,46]\n",
    "\n",
    "height = [\"6'4\",\"5'6\",\"5'6\",\"5'3\",\"5'0\",\"5'1\",\"N/A\",\"5'3\",\"5'5\",\"6'2\"]\n",
    "\n",
    "flag = [False, True, True, False, False, True, False, False, False, False]\n",
    "\n",
    "\n",
    "print(pirate[0],sex[0],age[0],height[0],flag[0])\n",
    "print(flag[9],height[9],age[9],sex[9],pirate[9])\n",
    "print(\"\")\n",
    "print(pirate[0],age[0],flag[0])\n",
    "print(pirate[1],age[1],flag[1])\n",
    "print(pirate[2],age[2],flag[2])\n",
    "print(pirate[3],age[3],flag[3])\n",
    "print(pirate[4],age[4],flag[4])\n",
    "print(pirate[5],age[5],flag[5])\n",
    "print(pirate[6],age[6],flag[6])\n",
    "print(pirate[7],age[7],flag[7])\n",
    "print(pirate[8],age[8],flag[8])\n",
    "print(pirate[9],age[9],flag[9])"
   ]
  },
  {
   "cell_type": "code",
   "execution_count": 1,
   "id": "6570cb44",
   "metadata": {},
   "outputs": [],
   "source": [
    "pirates = {\n",
    "    \"P\":[\"Blackbeard\",\"Anne Bonny\",\"Calico Jack\",\"Cheung Po Tsai\",\"Grace O'Malley\",\"Mary Read\",\"Sayyida al Hurra\",\"Ching Shih\",\"Sir Francis Drake\",\"Jean Lafitte\"],\n",
    "    \"S\":[\"M\",\"F\",\"M\",\"M\",\"F\",\"F\",\"F\",\"F\",\"M\",\"M\"],\n",
    "    \"A\":[40,24,37,39,73,36,75,69,56,46],\n",
    "    \"H\":[\"6'4\",\"5'6\",\"5'6\",\"5'3\",\"5'0\",\"5'1\",\"N/A\",\"5'3\",\"5'5\",\"6'2\"],\n",
    "    \"F\":[False, True, True, False, False, True, False, False, False, False]\n",
    "}"
   ]
  },
  {
   "cell_type": "code",
   "execution_count": null,
   "id": "77d7102f",
   "metadata": {},
   "outputs": [],
   "source": []
  },
  {
   "cell_type": "code",
   "execution_count": 3,
   "id": "31e18343",
   "metadata": {},
   "outputs": [
    {
     "name": "stdout",
     "output_type": "stream",
     "text": [
      "Blackbeard\n",
      "M\n",
      "40\n",
      "6'4\n",
      "False\n",
      "\n",
      "False\n",
      "False\n",
      "False\n",
      "False\n",
      "True\n",
      "False\n",
      "False\n",
      "True\n",
      "True\n",
      "False\n",
      "\n",
      "['Blackbeard', 'Anne Bonny', 'Calico Jack', 'Cheung Po Tsai', \"Grace O'Malley\", 'Mary Read', 'Sayyida al Hurra', 'Ching Shih', 'Sir Francis Drake', 'Jean Lafitte']\n",
      "[40, 24, 37, 39, 73, 36, 75, 69, 56, 46]\n",
      "[False, True, True, False, False, True, False, False, False, False]\n"
     ]
    }
   ],
   "source": [
    "for taco1 in pirates:\n",
    "    print(pirates[taco1][0])\n",
    "print(\"\")\n",
    "for taco2 in reversed(pirates[\"F\"]):\n",
    "    print(taco2)\n",
    "print(\"\")\n",
    "for taco3 in (pirates[\"P\"],pirates[\"A\"],pirates[\"F\"]):\n",
    "    print(taco3)"
   ]
  },
  {
   "cell_type": "code",
   "execution_count": null,
   "id": "860ed07b",
   "metadata": {},
   "outputs": [],
   "source": []
  },
  {
   "cell_type": "code",
   "execution_count": null,
   "id": "c5cb42b1",
   "metadata": {},
   "outputs": [],
   "source": []
  },
  {
   "cell_type": "code",
   "execution_count": null,
   "id": "317c1934",
   "metadata": {},
   "outputs": [],
   "source": []
  },
  {
   "cell_type": "code",
   "execution_count": null,
   "id": "c1c70500",
   "metadata": {},
   "outputs": [],
   "source": [
    "print(pirates[\"F\"][9:0:-1])"
   ]
  },
  {
   "cell_type": "code",
   "execution_count": null,
   "id": "0f3c459e",
   "metadata": {},
   "outputs": [],
   "source": [
    "print(pirates[\"P\"][0])\n",
    "print(pirates[\"S\"][0])\n",
    "print(pirates[\"A\"][0])\n",
    "print(pirates[\"H\"][0])\n",
    "print(pirates[\"F\"][0])\n"
   ]
  },
  {
   "cell_type": "code",
   "execution_count": null,
   "id": "7baa7355",
   "metadata": {},
   "outputs": [],
   "source": []
  },
  {
   "cell_type": "code",
   "execution_count": null,
   "id": "2c5519af",
   "metadata": {},
   "outputs": [],
   "source": []
  }
 ],
 "metadata": {
  "kernelspec": {
   "display_name": "Python 3 (ipykernel)",
   "language": "python",
   "name": "python3"
  },
  "language_info": {
   "codemirror_mode": {
    "name": "ipython",
    "version": 3
   },
   "file_extension": ".py",
   "mimetype": "text/x-python",
   "name": "python",
   "nbconvert_exporter": "python",
   "pygments_lexer": "ipython3",
   "version": "3.9.13"
  }
 },
 "nbformat": 4,
 "nbformat_minor": 5
}
