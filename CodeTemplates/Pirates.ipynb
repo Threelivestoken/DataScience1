{
 "cells": [
  {
   "cell_type": "code",
   "execution_count": 1,
   "id": "4ed0ccdc",
   "metadata": {},
   "outputs": [],
   "source": [
    "pirates = {\n",
    "    \"P\":[\"Blackbeard\",\"Anne Bonny\",\"Calico Jack\",\"Cheung Po Tsai\",\"Grace O'Malley\",\"Mary Read\",\"Sayyida al Hurra\",\"Ching Shih\",\"Sir Francis Drake\",\"Jean Lafitte\"],\n",
    "    \"S\":[\"M\",\"F\",\"M\",\"M\",\"F\",\"F\",\"F\",\"F\",\"M\",\"M\"],\n",
    "    \"A\":[40,24,37,39,73,36,75,69,56,46],\n",
    "    \"H\":[\"6'4\",\"5'6\",\"5'6\",\"5'3\",\"5'0\",\"5'1\",\"N/A\",\"5'3\",\"5'5\",\"6'2\"],\n",
    "    \"F\":[False, True, True, False, False, True, False, False, False, False]\n",
    "}"
   ]
  },
  {
   "cell_type": "code",
   "execution_count": null,
   "id": "31e18343",
   "metadata": {},
   "outputs": [],
   "source": [
    "for taco1 in pirates:\n",
    "    print(pirates[taco1][0])\n",
    "print(\"\")\n",
    "for taco2 in reversed(pirates[\"F\"]):\n",
    "    print(taco2)\n",
    "print(\"\")\n",
    "for i in range(0,10):\n",
    "    print(pirates[\"P\"][i],pirates[\"A\"][i],pirates[\"F\"][i])"
   ]
  },
  {
   "cell_type": "code",
   "execution_count": 5,
   "id": "f333b665",
   "metadata": {},
   "outputs": [
    {
     "name": "stdout",
     "output_type": "stream",
     "text": [
      "[False, True, True, False, False, True, False, False, False, False]\n",
      "[False, True, True, False, False, True, False, False, False, False]\n",
      "[False, True, True, False, False, True, False, False, False, False]\n",
      "[False, True, True, False, False, True, False, False, False, False]\n",
      "[False, True, True, False, False, True, False, False, False, False]\n",
      "[False, True, True, False, False, True, False, False, False, False]\n",
      "[False, True, True, False, False, True, False, False, False, False]\n",
      "[False, True, True, False, False, True, False, False, False, False]\n",
      "[False, True, True, False, False, True, False, False, False, False]\n",
      "[False, True, True, False, False, True, False, False, False, False]\n"
     ]
    }
   ],
   "source": [
    "x=0\n",
    "for i in range(0,10):\n",
    "    if pirates[\"F\"]==True:\n",
    "        x=x+1\n"
   ]
  },
  {
   "cell_type": "code",
   "execution_count": null,
   "id": "87381028",
   "metadata": {},
   "outputs": [],
   "source": []
  },
  {
   "cell_type": "code",
   "execution_count": null,
   "id": "3651dd1d",
   "metadata": {},
   "outputs": [],
   "source": []
  },
  {
   "cell_type": "code",
   "execution_count": null,
   "id": "0c36a7c0",
   "metadata": {},
   "outputs": [],
   "source": [
    "#print(pirates[\"F\"][9:0:-1])"
   ]
  },
  {
   "cell_type": "code",
   "execution_count": null,
   "id": "4d304272",
   "metadata": {},
   "outputs": [],
   "source": [
    "#print(pirates[\"P\"][0])\n",
    "#print(pirates[\"S\"][0])\n",
    "#print(pirates[\"A\"][0])\n",
    "#print(pirates[\"H\"][0])\n",
    "#print(pirates[\"F\"][0])\n"
   ]
  },
  {
   "cell_type": "code",
   "execution_count": null,
   "id": "c4d8bcab",
   "metadata": {},
   "outputs": [],
   "source": []
  },
  {
   "cell_type": "code",
   "execution_count": null,
   "id": "8cb5dd7d",
   "metadata": {},
   "outputs": [],
   "source": []
  }
 ],
 "metadata": {
  "kernelspec": {
   "display_name": "Python 3 (ipykernel)",
   "language": "python",
   "name": "python3"
  },
  "language_info": {
   "codemirror_mode": {
    "name": "ipython",
    "version": 3
   },
   "file_extension": ".py",
   "mimetype": "text/x-python",
   "name": "python",
   "nbconvert_exporter": "python",
   "pygments_lexer": "ipython3",
   "version": "3.9.13"
  }
 },
 "nbformat": 4,
 "nbformat_minor": 5
}
