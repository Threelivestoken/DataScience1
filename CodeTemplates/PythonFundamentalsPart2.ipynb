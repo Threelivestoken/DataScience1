{
 "cells": [
  {
   "cell_type": "code",
   "execution_count": null,
   "id": "1b38aa43",
   "metadata": {},
   "outputs": [],
   "source": [
    "#Columm list\n",
    "p1={\n",
    "    \"n\":[\"Edward teach\",\"Anne Bonny\",\"John Rackham\",\"Cheung Po Tsai\",\"Grace O'Malley\",\"Mary Read\",\"Sayyida al Hurra\",\"Zheng Yi Sao\",\"Francis Drake\",\"Jean Lafitte\"],\n",
    "    \"y\":[[1716,1718],[1718,1720],[1718,1720],[1798,1810],[1564,1595],[1708,1721],[1515,1545],[1801,1810],[1563,1596],[1810,1823]],\n",
    "    \"s\":[\"Caribbean\",\"Caribbean\",\"Caribbean\",\"South China sea\",\"British Isles\",\"Caribbean\",\"Mediterranean\",\"South China Sea\",\"Caribbean\",\"Gulf of Mexico\"],\n",
    "    \"a\":[\"Blackbeard\",\"\",\"Calico Jack\",\"The Kid\",\"Queen of Ireland\",\"Mark\",\"Hakimat Titwan\",\"Ching Shih\",\"Sir Francis Drake\",\"Terror of the Gulf\"]\n",
    "}\n"
   ]
  },
  {
   "cell_type": "code",
   "execution_count": null,
   "id": "cbb85216",
   "metadata": {},
   "outputs": [],
   "source": [
    "pirates = {\n",
    "    \"P\":[\"Blackbeard\",\"Anne Bonny\",\"Calico Jack\",\"Cheung Po Tsai\",\"Grace O'Malley\",\"Mary Read\",\"Sayyida al Hurra\",\"Ching Shih\",\"Sir Francis Drake\",\"Jean Lafitte\"],\n",
    "    \"S\":[\"M\",\"F\",\"M\",\"M\",\"F\",\"F\",\"F\",\"F\",\"M\",\"M\"],\n",
    "    \"A\":[40,24,37,39,73,36,75,69,56,46],\n",
    "    \"H\":[6.4,5.6,5.6,5.3,5.0,5.1,0,5.3,5.5,6.2],\n",
    "    \"F\":[False, True, True, False, False, True, False, False, False, False]\n",
    "}"
   ]
  },
  {
   "cell_type": "code",
   "execution_count": null,
   "id": "67f1bf46",
   "metadata": {},
   "outputs": [],
   "source": [
    "piratelist={\"n\":[],\"y\":[],\"s\":[],\"a\":[],\"S\":[],\"A\":[],\"H\":[],\"F\":[]}\n",
    "\n",
    "piratelist[\"n\"]=p1[\"n\"]\n",
    "for num in p1:\n",
    "    piratelist[num]=p1[num]\n",
    "for num in pirates:\n",
    "    if not \"P\"==num:\n",
    "        piratelist[num]=pirates[num]"
   ]
  },
  {
   "cell_type": "code",
   "execution_count": null,
   "id": "89c5861f",
   "metadata": {},
   "outputs": [],
   "source": [
    "#Turn into rows\n",
    "p2={}\n",
    "for cool in range(0,10):\n",
    "    p2[cool]=[p1[\"n\"][cool],p1[\"y\"][cool],p1[\"s\"][cool],p1[\"a\"][cool]]"
   ]
  },
  {
   "cell_type": "code",
   "execution_count": null,
   "id": "6ef54c67",
   "metadata": {},
   "outputs": [],
   "source": [
    "#Just rows! Dont Run!\n",
    "p3={\n",
    "    \"Edward teach\":    [ [1716, 1718] , \"Caribbean\" , \"Blackbeard\"],\n",
    "    \"Anne Bonny\":      [ [1718, 1720] , \"Caribbean\" , \"\"],\n",
    "    \"John Rackham\":    [ [1718, 1720] , \"Caribbean\" , \"Calico Jack\"],\n",
    "    \"Cheung Po Tsai\":  [ [1798, 1810] , \"South China sea\" , \"The Kid\"],\n",
    "    \"Grace O'Malley\":  [ [1564, 1595] , \"British Isles\" , \"Queen of Ireland\"],\n",
    "    \"Mary Read\":       [ [1708, 1721] , \"Caribbean\" , \"Mark\"],\n",
    "    \"Sayyida al Hurra\":[ [1515, 1545] , \"Mediterranean\" , \"Hakimat Titwan\"],\n",
    "    \"Zheng Yi Sao\":    [ [1801, 1810] , \"South China Sea\" , \"Ching Shih\"],\n",
    "    \"Francis Drake\":   [ [1563, 1596] , \"Caribbean\" , \"Sir Francis Drake\"],\n",
    "    \"Jean Lafitte\":    [ [1810, 1823] , \"Gulf of Mexico\" , \"Terror of the Gulf\"]\n",
    "}\n"
   ]
  },
  {
   "cell_type": "code",
   "execution_count": null,
   "id": "643935e7",
   "metadata": {},
   "outputs": [],
   "source": [
    "#How many pirates sailed the Cribbean during the 18th century?\n",
    "pc=0\n",
    "ply=p1[\"y\"]\n",
    "for lol in range(0,9):\n",
    "    if p1[\"s\"][lol]==\"Caribbean\":\n",
    "        if 1801>ply[lol][1]>1700 or 1801>ply[lol][0]>1700:\n",
    "            pc=pc+1\n",
    "print(pc,\"Pirates sailed the Caribbean during the 18th Century\")"
   ]
  },
  {
   "cell_type": "code",
   "execution_count": null,
   "id": "05ee9f29",
   "metadata": {},
   "outputs": [],
   "source": [
    "#Who had the longest career?\n",
    "ps1=0\n",
    "ply=p1[\"y\"]\n",
    "for lol in range(0,9):\n",
    "    if ply[lol][1]-ply[lol][0]>ply[ps1][1]-ply[ps1][0]:\n",
    "        ps1=lol\n",
    "print(\"The pirate\",p1[\"n\"][ps1],\"had the longest career of the pirates at\",ply[ps1][1]-ply[ps1][0],\"years!\")"
   ]
  },
  {
   "cell_type": "code",
   "execution_count": null,
   "id": "ef312a7e",
   "metadata": {},
   "outputs": [],
   "source": [
    "#On average, how many years was a pirate active?\n",
    "ps2=0\n",
    "ply=p1[\"y\"]\n",
    "for lol in range(0,10):\n",
    "    ps2=ps2+ply[lol][1]-ply[lol][0]\n",
    "    \n",
    "print(\"The average amount of time a pirate was active was\",ps2/10,\"years!\")"
   ]
  }
 ],
 "metadata": {
  "kernelspec": {
   "display_name": "Python 3 (ipykernel)",
   "language": "python",
   "name": "python3"
  },
  "language_info": {
   "codemirror_mode": {
    "name": "ipython",
    "version": 3
   },
   "file_extension": ".py",
   "mimetype": "text/x-python",
   "name": "python",
   "nbconvert_exporter": "python",
   "pygments_lexer": "ipython3",
   "version": "3.9.13"
  }
 },
 "nbformat": 4,
 "nbformat_minor": 5
}
