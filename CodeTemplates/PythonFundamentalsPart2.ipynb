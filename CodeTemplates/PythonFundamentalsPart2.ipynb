{
 "cells": [
  {
   "cell_type": "code",
   "execution_count": 1,
   "id": "75f530dc",
   "metadata": {},
   "outputs": [],
   "source": [
    "#Columm list\n",
    "p1={\n",
    "    \"n\":[\"Edward teach\",\"Anne Bonny\",\"John Rackham\",\"Cheung Po Tsai\",\"Grace O'Malley\",\"Mary Read\",\"Sayyida al Hurra\",\"Zheng Yi Sao\",\"Francis Drake\",\"Jean Lafitte\"],\n",
    "    \"y\":[[1716,1718],[1718,1720],[1718,1720],[1798,1810],[1564,1595],[1708,1721],[1515,1545],[1801,1810],[1563,1596],[1810,1823]],\n",
    "    \"s\":[\"Caribbean\",\"Caribbean\",\"Caribbean\",\"South China sea\",\"British Isles\",\"Caribbean\",\"Mediterranean\",\"South China Sea\",\"Caribbean\",\"Gulf of Mexico\"],\n",
    "    \"a\":[\"Blackbeard\",\"\",\"Calico Jack\",\"The Kid\",\"Queen of Ireland\",\"Mark\",\"Hakimat Titwan\",\"Ching Shih\",\"Sir Francis Drake\",\"Terror of the Gulf\"]\n",
    "}\n"
   ]
  },
  {
   "cell_type": "code",
   "execution_count": 2,
   "id": "68c0de1f",
   "metadata": {},
   "outputs": [],
   "source": [
    "pirates = {\n",
    "    \"P\":[\"Blackbeard\",\"Anne Bonny\",\"Calico Jack\",\"Cheung Po Tsai\",\"Grace O'Malley\",\"Mary Read\",\"Sayyida al Hurra\",\"Ching Shih\",\"Sir Francis Drake\",\"Jean Lafitte\"],\n",
    "    \"S\":[\"M\",\"F\",\"M\",\"M\",\"F\",\"F\",\"F\",\"F\",\"M\",\"M\"],\n",
    "    \"A\":[40,24,37,39,73,36,75,69,56,46],\n",
    "    \"H\":[6.4,5.6,5.6,5.3,5.0,5.1,0,5.3,5.5,6.2],\n",
    "    \"F\":[False, True, True, False, False, True, False, False, False, False]\n",
    "}"
   ]
  },
  {
   "cell_type": "code",
   "execution_count": 4,
   "id": "3c51f263",
   "metadata": {},
   "outputs": [],
   "source": [
    "piratelist={\n",
    "    \"n\":[],\n",
    "    \"y\":[],\n",
    "    \"s\":[],\n",
    "    \"a\":[],\n",
    "    \"S\":[],\n",
    "    \"A\":[],\n",
    "    \"H\":[],\n",
    "    \"F\":[]\n",
    "}"
   ]
  },
  {
   "cell_type": "code",
   "execution_count": 11,
   "id": "6fc935b5",
   "metadata": {},
   "outputs": [
    {
     "ename": "KeyError",
     "evalue": "'P'",
     "output_type": "error",
     "traceback": [
      "\u001b[1;31m---------------------------------------------------------------------------\u001b[0m",
      "\u001b[1;31mKeyError\u001b[0m                                  Traceback (most recent call last)",
      "\u001b[1;32m~\\AppData\\Local\\Temp\\ipykernel_808\\2816890743.py\u001b[0m in \u001b[0;36m<module>\u001b[1;34m\u001b[0m\n\u001b[0;32m      3\u001b[0m     \u001b[0mpiratelist\u001b[0m\u001b[1;33m[\u001b[0m\u001b[0mnum\u001b[0m\u001b[1;33m]\u001b[0m\u001b[1;33m=\u001b[0m\u001b[0mp1\u001b[0m\u001b[1;33m[\u001b[0m\u001b[0mnum\u001b[0m\u001b[1;33m]\u001b[0m\u001b[1;33m\u001b[0m\u001b[1;33m\u001b[0m\u001b[0m\n\u001b[0;32m      4\u001b[0m \u001b[1;32mfor\u001b[0m \u001b[0mnum\u001b[0m \u001b[1;32min\u001b[0m \u001b[0mpirates\u001b[0m\u001b[1;33m:\u001b[0m\u001b[1;33m\u001b[0m\u001b[1;33m\u001b[0m\u001b[0m\n\u001b[1;32m----> 5\u001b[1;33m     \u001b[1;32mif\u001b[0m \u001b[0mpiratelist\u001b[0m\u001b[1;33m[\u001b[0m\u001b[0mnum\u001b[0m\u001b[1;33m]\u001b[0m\u001b[1;33m==\u001b[0m\u001b[0mpirates\u001b[0m\u001b[1;33m[\u001b[0m\u001b[0mnum\u001b[0m\u001b[1;33m]\u001b[0m\u001b[1;33m:\u001b[0m\u001b[1;33m\u001b[0m\u001b[1;33m\u001b[0m\u001b[0m\n\u001b[0m\u001b[0;32m      6\u001b[0m         \u001b[0mpiratelist\u001b[0m\u001b[1;33m[\u001b[0m\u001b[0mnum\u001b[0m\u001b[1;33m]\u001b[0m\u001b[1;33m=\u001b[0m\u001b[0mpirates\u001b[0m\u001b[1;33m[\u001b[0m\u001b[0mnum\u001b[0m\u001b[1;33m]\u001b[0m\u001b[1;33m\u001b[0m\u001b[1;33m\u001b[0m\u001b[0m\n\u001b[0;32m      7\u001b[0m \u001b[1;33m\u001b[0m\u001b[0m\n",
      "\u001b[1;31mKeyError\u001b[0m: 'P'"
     ]
    }
   ],
   "source": [
    "piratelist[\"n\"]=p1[\"n\"]\n",
    "for num in p1:\n",
    "    piratelist[num]=p1[num]\n",
    "for num in pirates:\n",
    "    if piratelist[num]==pirates[num]:\n",
    "        piratelist[num]=pirates[num]\n",
    "    "
   ]
  },
  {
   "cell_type": "code",
   "execution_count": 10,
   "id": "6a8734fa",
   "metadata": {},
   "outputs": [
    {
     "name": "stdout",
     "output_type": "stream",
     "text": [
      "{'n': ['Edward teach', 'Anne Bonny', 'John Rackham', 'Cheung Po Tsai', \"Grace O'Malley\", 'Mary Read', 'Sayyida al Hurra', 'Zheng Yi Sao', 'Francis Drake', 'Jean Lafitte'], 'y': [[1716, 1718], [1718, 1720], [1718, 1720], [1798, 1810], [1564, 1595], [1708, 1721], [1515, 1545], [1801, 1810], [1563, 1596], [1810, 1823]], 's': ['Caribbean', 'Caribbean', 'Caribbean', 'South China sea', 'British Isles', 'Caribbean', 'Mediterranean', 'South China Sea', 'Caribbean', 'Gulf of Mexico'], 'a': ['Blackbeard', '', 'Calico Jack', 'The Kid', 'Queen of Ireland', 'Mark', 'Hakimat Titwan', 'Ching Shih', 'Sir Francis Drake', 'Terror of the Gulf'], 'S': [], 'A': [], 'H': [], 'F': []}\n"
     ]
    }
   ],
   "source": [
    "print(piratelist)"
   ]
  },
  {
   "cell_type": "code",
   "execution_count": null,
   "id": "ad917ab0",
   "metadata": {},
   "outputs": [],
   "source": []
  },
  {
   "cell_type": "code",
   "execution_count": null,
   "id": "9e85e464",
   "metadata": {},
   "outputs": [],
   "source": []
  },
  {
   "cell_type": "code",
   "execution_count": null,
   "id": "168760c9",
   "metadata": {},
   "outputs": [],
   "source": [
    "#Turn into rows\n",
    "p2={}\n",
    "for cool in range(0,10):\n",
    "    p2[cool]=[p1[\"n\"][cool],p1[\"y\"][cool],p1[\"s\"][cool],p1[\"a\"][cool]]"
   ]
  },
  {
   "cell_type": "code",
   "execution_count": null,
   "id": "8254d2b3",
   "metadata": {},
   "outputs": [],
   "source": [
    "#Just rows! Dont Run!\n",
    "p3={\n",
    "    \"Edward teach\":    [ [1716, 1718] , \"Caribbean\" , \"Blackbeard\"],\n",
    "    \"Anne Bonny\":      [ [1718, 1720] , \"Caribbean\" , \"\"],\n",
    "    \"John Rackham\":    [ [1718, 1720] , \"Caribbean\" , \"Calico Jack\"],\n",
    "    \"Cheung Po Tsai\":  [ [1798, 1810] , \"South China sea\" , \"The Kid\"],\n",
    "    \"Grace O'Malley\":  [ [1564, 1595] , \"British Isles\" , \"Queen of Ireland\"],\n",
    "    \"Mary Read\":       [ [1708, 1721] , \"Caribbean\" , \"Mark\"],\n",
    "    \"Sayyida al Hurra\":[ [1515, 1545] , \"Mediterranean\" , \"Hakimat Titwan\"],\n",
    "    \"Zheng Yi Sao\":    [ [1801, 1810] , \"South China Sea\" , \"Ching Shih\"],\n",
    "    \"Francis Drake\":   [ [1563, 1596] , \"Caribbean\" , \"Sir Francis Drake\"],\n",
    "    \"Jean Lafitte\":    [ [1810, 1823] , \"Gulf of Mexico\" , \"Terror of the Gulf\"]\n",
    "}\n"
   ]
  },
  {
   "cell_type": "code",
   "execution_count": null,
   "id": "9a9d12e2",
   "metadata": {},
   "outputs": [],
   "source": [
    "#How many pirates sailed the Cribbean during the 18th century?\n",
    "pc=0\n",
    "ply=p1[\"y\"]\n",
    "for lol in range(0,9):\n",
    "    if p1[\"s\"][lol]==\"Caribbean\":\n",
    "        if 1801>ply[lol][1]>1700 or 1801>ply[lol][0]>1700:\n",
    "            pc=pc+1\n",
    "print(pc,\"Pirates sailed the Caribbean during the 18th Century\")"
   ]
  },
  {
   "cell_type": "code",
   "execution_count": null,
   "id": "9ecbbd49",
   "metadata": {},
   "outputs": [],
   "source": [
    "#Who had the longest career?\n",
    "ps1=0\n",
    "ply=p1[\"y\"]\n",
    "for lol in range(0,9):\n",
    "    if ply[lol][1]-ply[lol][0]>ply[ps1][1]-ply[ps1][0]:\n",
    "        ps1=lol\n",
    "print(\"The pirate\",p1[\"n\"][ps1],\"had the longest career of the pirates at\",ply[ps1][1]-ply[ps1][0],\"years!\")"
   ]
  },
  {
   "cell_type": "code",
   "execution_count": null,
   "id": "31876900",
   "metadata": {},
   "outputs": [],
   "source": [
    "#On average, how many years was a pirate active?\n",
    "ps2=0\n",
    "ply=p1[\"y\"]\n",
    "for lol in range(0,10):\n",
    "    ps2=ps2+ply[lol][1]-ply[lol][0]\n",
    "    \n",
    "print(\"The average amount of time a pirate was active was\",ps2/10,\"years!\")"
   ]
  },
  {
   "cell_type": "code",
   "execution_count": null,
   "id": "a7285907",
   "metadata": {},
   "outputs": [],
   "source": []
  }
 ],
 "metadata": {
  "kernelspec": {
   "display_name": "Python 3 (ipykernel)",
   "language": "python",
   "name": "python3"
  },
  "language_info": {
   "codemirror_mode": {
    "name": "ipython",
    "version": 3
   },
   "file_extension": ".py",
   "mimetype": "text/x-python",
   "name": "python",
   "nbconvert_exporter": "python",
   "pygments_lexer": "ipython3",
   "version": "3.9.13"
  }
 },
 "nbformat": 4,
 "nbformat_minor": 5
}
