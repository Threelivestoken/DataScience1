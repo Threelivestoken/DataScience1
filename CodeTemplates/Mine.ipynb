{
 "cells": [
  {
   "cell_type": "code",
   "execution_count": null,
   "id": "8c9b1abe",
   "metadata": {},
   "outputs": [],
   "source": [
    "nodes = {\n",
    "    \"n1\":[1,2,3,4],\n",
    "    \"b1\":[1,2,1,3],\n",
    "    \"m1\":[1.1,1.1,2.1,0.9]\n",
    "}\n",
    "\n",
    "nodes[\"n1\"]=[1,1,2,4]\n"
   ]
  },
  {
   "cell_type": "code",
   "execution_count": null,
   "id": "8bca0bb4",
   "metadata": {},
   "outputs": [],
   "source": [
    "print(nodes[\"n1\"])"
   ]
  },
  {
   "cell_type": "code",
   "execution_count": null,
   "id": "4e307c74",
   "metadata": {},
   "outputs": [],
   "source": [
    "for check in nodes:\n",
    "    print(check)"
   ]
  },
  {
   "cell_type": "code",
   "execution_count": 5,
   "id": "9e5c944e",
   "metadata": {},
   "outputs": [
    {
     "ename": "SyntaxError",
     "evalue": "invalid syntax (403321013.py, line 2)",
     "output_type": "error",
     "traceback": [
      "\u001b[1;36m  File \u001b[1;32m\"C:\\Users\\ejackson11\\AppData\\Local\\Temp\\ipykernel_4496\\403321013.py\"\u001b[1;36m, line \u001b[1;32m2\u001b[0m\n\u001b[1;33m    if [nodes[n1][i]<1]()\u001b[0m\n\u001b[1;37m                         ^\u001b[0m\n\u001b[1;31mSyntaxError\u001b[0m\u001b[1;31m:\u001b[0m invalid syntax\n"
     ]
    }
   ],
   "source": [
    "for i in range(0,10):\n",
    "    if [nodes[n1][i]<1]()"
   ]
  },
  {
   "cell_type": "code",
   "execution_count": null,
   "id": "d21aa486",
   "metadata": {},
   "outputs": [],
   "source": [
    "for i in range(0,10):\n",
    "    print(pirates[\"P\"][i],pirates[\"A\"][i],pirates[\"F\"][i])"
   ]
  },
  {
   "cell_type": "code",
   "execution_count": null,
   "id": "336ef677",
   "metadata": {},
   "outputs": [],
   "source": []
  }
 ],
 "metadata": {
  "kernelspec": {
   "display_name": "Python 3 (ipykernel)",
   "language": "python",
   "name": "python3"
  },
  "language_info": {
   "codemirror_mode": {
    "name": "ipython",
    "version": 3
   },
   "file_extension": ".py",
   "mimetype": "text/x-python",
   "name": "python",
   "nbconvert_exporter": "python",
   "pygments_lexer": "ipython3",
   "version": "3.9.13"
  }
 },
 "nbformat": 4,
 "nbformat_minor": 5
}
