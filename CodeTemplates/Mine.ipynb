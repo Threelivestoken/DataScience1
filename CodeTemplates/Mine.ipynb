{
 "cells": [
  {
   "cell_type": "code",
   "execution_count": null,
   "id": "6363d3fc",
   "metadata": {},
   "outputs": [],
   "source": [
    "nodes = {\n",
    "    \"node1\":[1,2,3,4],\n",
    "    \"bias1\":[1,2,1,3],\n",
    "    \"mult1\":[1.1,1.1,2.1,0.9],\n",
    "    \"out1\":[],\n",
    "    \"in1\":[]\n",
    "}\n",
    "\n",
    "nodes[\"n1\"]=[1,1,2,4]\n"
   ]
  },
  {
   "cell_type": "code",
   "execution_count": null,
   "id": "96351edb",
   "metadata": {},
   "outputs": [],
   "source": [
    "for i in range(0,3):\n",
    "    if e[\"n1\"][i]>e[\"b1\"][i]:\n",
    "        e[\"n1\"][i]=e[\"n1\"][i]*1"
   ]
  },
  {
   "cell_type": "code",
   "execution_count": null,
   "id": "385e124d",
   "metadata": {},
   "outputs": [],
   "source": [
    "#View the value of the nodes\n",
    "print(nodes[\"n1\"])"
   ]
  },
  {
   "cell_type": "code",
   "execution_count": null,
   "id": "c5163d40",
   "metadata": {},
   "outputs": [],
   "source": [
    "v=27\n",
    "x=v\n",
    "c=0\n",
    "for i in range(1,10000):\n",
    "    if x==4 or x==2 or x==1:\n",
    "        c=c\n",
    "    else:\n",
    "        c=c+1\n",
    "        print(x)\n",
    "    if round(x/2)-x/2==0:\n",
    "        x=x/2\n",
    "    else:\n",
    "        x=3*x+1\n",
    "print(\"Your score is\",c-v)\n",
    "if v<c:\n",
    "    print(\"You won!\")\n",
    "else:\n",
    "    print(\"You lost! :(\")"
   ]
  },
  {
   "cell_type": "code",
   "execution_count": 1,
   "id": "55e0b982",
   "metadata": {},
   "outputs": [
    {
     "name": "stdout",
     "output_type": "stream",
     "text": [
      "6171\n"
     ]
    }
   ],
   "source": [
    "v=0\n",
    "vc=0\n",
    "for u in range(1,10000):\n",
    "    x=u\n",
    "    c=0\n",
    "    for i in range(1,1000):\n",
    "        if x==4 or x==2 or x==1:\n",
    "            c=c\n",
    "        else:\n",
    "            c=c+1\n",
    "            #print(x)\n",
    "        if round(x/2)-x/2==0:\n",
    "            x=x/2\n",
    "        else:\n",
    "            x=3*x+1\n",
    "    if c>vc:\n",
    "        vc=c\n",
    "        v=u\n",
    "    #print(\"\")\n",
    "print(v)"
   ]
  },
  {
   "cell_type": "code",
   "execution_count": null,
   "id": "4a429efc",
   "metadata": {},
   "outputs": [],
   "source": []
  }
 ],
 "metadata": {
  "kernelspec": {
   "display_name": "Python 3 (ipykernel)",
   "language": "python",
   "name": "python3"
  },
  "language_info": {
   "codemirror_mode": {
    "name": "ipython",
    "version": 3
   },
   "file_extension": ".py",
   "mimetype": "text/x-python",
   "name": "python",
   "nbconvert_exporter": "python",
   "pygments_lexer": "ipython3",
   "version": "3.9.13"
  }
 },
 "nbformat": 4,
 "nbformat_minor": 5
}
