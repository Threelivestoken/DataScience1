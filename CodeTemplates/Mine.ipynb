{
 "cells": [
  {
   "cell_type": "code",
   "execution_count": 1,
   "id": "6363d3fc",
   "metadata": {},
   "outputs": [],
   "source": [
    "e = {\n",
    "    \"n1\":[1,2,3,4],\n",
    "    \"b1\":[1,2,1,3],\n",
    "    \"m1\":[1.1,1.1,2.1,0.9]\n",
    "}\n",
    "\n",
    "nodes[\"n1\"]=[1,1,2,4]\n"
   ]
  },
  {
   "cell_type": "code",
   "execution_count": 2,
   "id": "96351edb",
   "metadata": {},
   "outputs": [],
   "source": [
    "for i in range(0,3):\n",
    "    if e[\"n1\"][i]>e[\"b1\"][i]:\n",
    "        e[\"n1\"][i]=e[\"n1\"][i]*"
   ]
  },
  {
   "cell_type": "code",
   "execution_count": null,
   "id": "385e124d",
   "metadata": {},
   "outputs": [],
   "source": []
  },
  {
   "cell_type": "code",
   "execution_count": 3,
   "id": "c5163d40",
   "metadata": {},
   "outputs": [
    {
     "name": "stdout",
     "output_type": "stream",
     "text": [
      "[1, 1, 0, 4]\n"
     ]
    }
   ],
   "source": [
    "#View the value of the nodes\n",
    "print(nodes[\"n1\"])"
   ]
  },
  {
   "cell_type": "code",
   "execution_count": null,
   "id": "55e0b982",
   "metadata": {},
   "outputs": [],
   "source": []
  }
 ],
 "metadata": {
  "kernelspec": {
   "display_name": "Python 3 (ipykernel)",
   "language": "python",
   "name": "python3"
  },
  "language_info": {
   "codemirror_mode": {
    "name": "ipython",
    "version": 3
   },
   "file_extension": ".py",
   "mimetype": "text/x-python",
   "name": "python",
   "nbconvert_exporter": "python",
   "pygments_lexer": "ipython3",
   "version": "3.9.13"
  }
 },
 "nbformat": 4,
 "nbformat_minor": 5
}
