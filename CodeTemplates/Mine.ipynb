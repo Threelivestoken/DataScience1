{
 "cells": [
  {
   "cell_type": "code",
   "execution_count": 1,
   "id": "d6ec0154",
   "metadata": {},
   "outputs": [],
   "source": [
    "nodes = {\n",
    "    \"n1\":[1,2,3,4],\n",
    "    \"b1\":[1,2,1,3],\n",
    "    \"m1\":[1.1,1.1,2.1,0.9]\n",
    "}\n",
    "\n",
    "nodes[\"n1\"]=[1,1,2,4]\n"
   ]
  },
  {
   "cell_type": "code",
   "execution_count": 2,
   "id": "e1b72628",
   "metadata": {},
   "outputs": [],
   "source": [
    "for i in range(0,3):\n",
    "    if nodes[\"n1\"][i]<nodes[\"b1\"][i]:\n",
    "        nodes[\"n1\"][i]=nodes[\"n1\"][i]+1"
   ]
  },
  {
   "cell_type": "code",
   "execution_count": 3,
   "id": "77cebbfd",
   "metadata": {},
   "outputs": [
    {
     "name": "stdout",
     "output_type": "stream",
     "text": [
      "[1, 2, 2, 4]\n"
     ]
    }
   ],
   "source": [
    "print(nodes[\"n1\"])"
   ]
  },
  {
   "cell_type": "code",
   "execution_count": null,
   "id": "10ab18d4",
   "metadata": {},
   "outputs": [],
   "source": []
  },
  {
   "cell_type": "code",
   "execution_count": null,
   "id": "abab097f",
   "metadata": {},
   "outputs": [],
   "source": []
  },
  {
   "cell_type": "code",
   "execution_count": null,
   "id": "72fc97e4",
   "metadata": {},
   "outputs": [],
   "source": []
  }
 ],
 "metadata": {
  "kernelspec": {
   "display_name": "Python 3 (ipykernel)",
   "language": "python",
   "name": "python3"
  },
  "language_info": {
   "codemirror_mode": {
    "name": "ipython",
    "version": 3
   },
   "file_extension": ".py",
   "mimetype": "text/x-python",
   "name": "python",
   "nbconvert_exporter": "python",
   "pygments_lexer": "ipython3",
   "version": "3.9.13"
  }
 },
 "nbformat": 4,
 "nbformat_minor": 5
}
