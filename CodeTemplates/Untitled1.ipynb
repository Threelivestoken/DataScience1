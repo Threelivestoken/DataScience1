{
 "cells": [
  {
   "cell_type": "code",
   "execution_count": 1,
   "id": "899d4b76",
   "metadata": {},
   "outputs": [],
   "source": [
    "import pandas as pd"
   ]
  },
  {
   "cell_type": "code",
   "execution_count": 2,
   "id": "dd7ff5b1",
   "metadata": {},
   "outputs": [],
   "source": [
    "data={\n",
    "    \"Name\":[\"Sarah\",\"David\"],\n",
    "    \"Age\":[19,45],\n",
    "    \"Gender\":[\"Female\",\"Male\"],\n",
    "    \"Height\":[0,0],\n",
    "    \"Smoker\":[False,True]\n",
    "}"
   ]
  },
  {
   "cell_type": "code",
   "execution_count": 3,
   "id": "88094938",
   "metadata": {},
   "outputs": [],
   "source": [
    "df=pd.DataFrame(data)"
   ]
  },
  {
   "cell_type": "code",
   "execution_count": null,
   "id": "de82ddd6",
   "metadata": {},
   "outputs": [],
   "source": []
  },
  {
   "cell_type": "code",
   "execution_count": 25,
   "id": "cd53da1d",
   "metadata": {},
   "outputs": [
    {
     "name": "stdout",
     "output_type": "stream",
     "text": [
      "  Name  Age Gender  Height Smoker\n",
      "0  NaN  NaN    NaN     NaN    NaN\n",
      "1  NaN  NaN    NaN     NaN   True\n"
     ]
    }
   ],
   "source": [
    "print(df[df.iloc[:,4:]==True])"
   ]
  },
  {
   "cell_type": "code",
   "execution_count": 26,
   "id": "43ea2fac",
   "metadata": {},
   "outputs": [
    {
     "ename": "SyntaxError",
     "evalue": "invalid syntax (116813867.py, line 1)",
     "output_type": "error",
     "traceback": [
      "\u001b[1;36m  File \u001b[1;32m\"C:\\Users\\ejackson11\\AppData\\Local\\Temp\\ipykernel_3484\\116813867.py\"\u001b[1;36m, line \u001b[1;32m1\u001b[0m\n\u001b[1;33m    df[if df.iloc[:,4:]==True:\u001b[0m\n\u001b[1;37m       ^\u001b[0m\n\u001b[1;31mSyntaxError\u001b[0m\u001b[1;31m:\u001b[0m invalid syntax\n"
     ]
    }
   ],
   "source": [
    "df[if df.iloc[:,4:]==True:\n",
    "    df.iloc[:,4:]]"
   ]
  },
  {
   "cell_type": "code",
   "execution_count": null,
   "id": "2ba6c657",
   "metadata": {},
   "outputs": [],
   "source": []
  }
 ],
 "metadata": {
  "kernelspec": {
   "display_name": "Python 3 (ipykernel)",
   "language": "python",
   "name": "python3"
  },
  "language_info": {
   "codemirror_mode": {
    "name": "ipython",
    "version": 3
   },
   "file_extension": ".py",
   "mimetype": "text/x-python",
   "name": "python",
   "nbconvert_exporter": "python",
   "pygments_lexer": "ipython3",
   "version": "3.9.13"
  }
 },
 "nbformat": 4,
 "nbformat_minor": 5
}
