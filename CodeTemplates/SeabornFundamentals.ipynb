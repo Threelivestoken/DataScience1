{
 "cells": [
  {
   "cell_type": "code",
   "execution_count": 1,
   "id": "aa8a74d9",
   "metadata": {},
   "outputs": [],
   "source": [
    "import pandas as pd\n",
    "import seaborn as sns\n",
    "import matplotlib.pyplot as plt\n",
    "import numpy as np"
   ]
  },
  {
   "cell_type": "code",
   "execution_count": 2,
   "id": "3facd4dd",
   "metadata": {},
   "outputs": [],
   "source": [
    "# Challenge 1\n",
    "# This is a dataset about people who are in the criminal justice system of Broward County, FL.\n",
    "df = pd.read_csv(\"compas.csv\")"
   ]
  },
  {
   "cell_type": "code",
   "execution_count": 3,
   "id": "f14e1774",
   "metadata": {
    "scrolled": true
   },
   "outputs": [
    {
     "name": "stdout",
     "output_type": "stream",
     "text": [
      "<class 'pandas.core.frame.DataFrame'>\n",
      "RangeIndex: 7214 entries, 0 to 7213\n",
      "Data columns (total 53 columns):\n",
      " #   Column                   Non-Null Count  Dtype  \n",
      "---  ------                   --------------  -----  \n",
      " 0   id                       7214 non-null   int64  \n",
      " 1   name                     7214 non-null   object \n",
      " 2   first                    7214 non-null   object \n",
      " 3   last                     7214 non-null   object \n",
      " 4   compas_screening_date    7214 non-null   object \n",
      " 5   sex                      7214 non-null   object \n",
      " 6   dob                      7214 non-null   object \n",
      " 7   age                      7214 non-null   int64  \n",
      " 8   age_cat                  7214 non-null   object \n",
      " 9   race                     7214 non-null   object \n",
      " 10  juv_fel_count            7214 non-null   int64  \n",
      " 11  decile_score             7214 non-null   int64  \n",
      " 12  juv_misd_count           7214 non-null   int64  \n",
      " 13  juv_other_count          7214 non-null   int64  \n",
      " 14  priors_count             7214 non-null   int64  \n",
      " 15  days_b_screening_arrest  6907 non-null   float64\n",
      " 16  c_jail_in                6907 non-null   object \n",
      " 17  c_jail_out               6907 non-null   object \n",
      " 18  c_case_number            7192 non-null   object \n",
      " 19  c_offense_date           6055 non-null   object \n",
      " 20  c_arrest_date            1137 non-null   object \n",
      " 21  c_days_from_compas       7192 non-null   float64\n",
      " 22  c_charge_degree          7214 non-null   object \n",
      " 23  c_charge_desc            7185 non-null   object \n",
      " 24  is_recid                 7214 non-null   int64  \n",
      " 25  r_case_number            3471 non-null   object \n",
      " 26  r_charge_degree          3471 non-null   object \n",
      " 27  r_days_from_arrest       2316 non-null   float64\n",
      " 28  r_offense_date           3471 non-null   object \n",
      " 29  r_charge_desc            3413 non-null   object \n",
      " 30  r_jail_in                2316 non-null   object \n",
      " 31  r_jail_out               2316 non-null   object \n",
      " 32  violent_recid            0 non-null      float64\n",
      " 33  is_violent_recid         7214 non-null   int64  \n",
      " 34  vr_case_number           819 non-null    object \n",
      " 35  vr_charge_degree         819 non-null    object \n",
      " 36  vr_offense_date          819 non-null    object \n",
      " 37  vr_charge_desc           819 non-null    object \n",
      " 38  type_of_assessment       7214 non-null   object \n",
      " 39  decile_score.1           7214 non-null   int64  \n",
      " 40  score_text               7214 non-null   object \n",
      " 41  screening_date           7214 non-null   object \n",
      " 42  v_type_of_assessment     7214 non-null   object \n",
      " 43  v_decile_score           7214 non-null   int64  \n",
      " 44  v_score_text             7214 non-null   object \n",
      " 45  v_screening_date         7214 non-null   object \n",
      " 46  in_custody               6978 non-null   object \n",
      " 47  out_custody              6978 non-null   object \n",
      " 48  priors_count.1           7214 non-null   int64  \n",
      " 49  start                    7214 non-null   int64  \n",
      " 50  end                      7214 non-null   int64  \n",
      " 51  event                    7214 non-null   int64  \n",
      " 52  two_year_recid           7214 non-null   int64  \n",
      "dtypes: float64(4), int64(16), object(33)\n",
      "memory usage: 2.9+ MB\n"
     ]
    }
   ],
   "source": [
    "# Challenge 2\n",
    "# The important column to notice is `decile_score`.\n",
    "# This is the COMPAS score assigned to a defendant.\n",
    "# It ranges from 1 - 10, where 10 is considered \"extremely likely to commit another crime\".\n",
    "df.info()"
   ]
  },
  {
   "cell_type": "code",
   "execution_count": null,
   "id": "4af0537a",
   "metadata": {},
   "outputs": [],
   "source": [
    "sns.countplot(data=df,x='age_cat')"
   ]
  },
  {
   "cell_type": "code",
   "execution_count": null,
   "id": "05e704be",
   "metadata": {},
   "outputs": [],
   "source": [
    "sns.histplot(data=df,x='age',kde=True)\n",
    "sns.histplot(data=df,x='age',kde=True,bins=8)"
   ]
  },
  {
   "cell_type": "code",
   "execution_count": null,
   "id": "6a203885",
   "metadata": {},
   "outputs": [],
   "source": [
    "sns.histplot(data=df,x='age',kde=True)\n",
    "sns.histplot(data=df,x='age',kde=True,bins=8)"
   ]
  },
  {
   "cell_type": "code",
   "execution_count": null,
   "id": "3914ec03",
   "metadata": {},
   "outputs": [],
   "source": [
    "df[\"c_jail_in\"]=pd.to_datetime(df[\"c_jail_in\"])\n",
    "df[\"c_jail_out\"]=pd.to_datetime(df[\"c_jail_out\"])\n",
    "df[\"c_jail_tot\"]=df['c_jail_out']-df['c_jail_in']\n",
    "#sns.scatterplot(data=df,x='c_jail_tot',y='age')"
   ]
  },
  {
   "cell_type": "code",
   "execution_count": null,
   "id": "f6573d45",
   "metadata": {},
   "outputs": [],
   "source": []
  },
  {
   "cell_type": "code",
   "execution_count": null,
   "id": "41c3aa73",
   "metadata": {},
   "outputs": [],
   "source": [
    "sns.countplot(data=df,x='race')"
   ]
  },
  {
   "cell_type": "code",
   "execution_count": null,
   "id": "d84fb696",
   "metadata": {},
   "outputs": [],
   "source": [
    "sns.countplot(data=df,x='decile_score.1')"
   ]
  },
  {
   "cell_type": "code",
   "execution_count": null,
   "id": "3229a945",
   "metadata": {},
   "outputs": [],
   "source": [
    "deccount=[0,0,0,0,0,0,0,0,0,0]\n",
    "for item in range(len(df['decile_score.1'])):\n",
    "        deccount[df['decile_score.1'][item]-1]=deccount[df['decile_score.1'][item]-1]+1"
   ]
  },
  {
   "cell_type": "code",
   "execution_count": null,
   "id": "18d814eb",
   "metadata": {},
   "outputs": [],
   "source": [
    "sns.countplot(data=df,x='decile_score.1',hue=\"sex\")"
   ]
  },
  {
   "cell_type": "code",
   "execution_count": null,
   "id": "0f83e28a",
   "metadata": {},
   "outputs": [],
   "source": [
    "#Test\n",
    "sns.countplot(data=df,x='decile_score.1',hue=\"first\")\n",
    "sns.countplot(data=df,x='first')\n",
    "for item in range(len(df[\"first\"])):\n",
    "    df[\"firstcount\"]=len(df[\"first\"][item])\n",
    "sns.countplot(data=df,x='firstcount')"
   ]
  },
  {
   "cell_type": "code",
   "execution_count": null,
   "id": "61d35e84",
   "metadata": {},
   "outputs": [],
   "source": [
    "#sns.histplot(data=df,x='decile_score.1',hue=\"age\",kde=False,bins=3)"
   ]
  },
  {
   "cell_type": "code",
   "execution_count": null,
   "id": "00f2a16b",
   "metadata": {},
   "outputs": [],
   "source": [
    "df['rage']=round(df['age']/5)*5\n",
    "sns.countplot(data=df,x='decile_score.1',hue=\"age_cat\")\n",
    "sns.countplot(data=df,x='decile_score.1',hue=\"rage\")"
   ]
  },
  {
   "cell_type": "code",
   "execution_count": null,
   "id": "ac92da44",
   "metadata": {},
   "outputs": [],
   "source": [
    "sns.countplot(data=df,x='decile_score.1',hue=\"race\")"
   ]
  },
  {
   "cell_type": "code",
   "execution_count": null,
   "id": "4c08f699",
   "metadata": {},
   "outputs": [],
   "source": [
    "sns.histplot(data=df,x='decile_score.1',hue=\"race\",kde=False)"
   ]
  },
  {
   "cell_type": "code",
   "execution_count": null,
   "id": "0096a343",
   "metadata": {},
   "outputs": [],
   "source": [
    "sns.countplot(data=df,x='decile_score.1',hue=\"c_jail_tot\")"
   ]
  },
  {
   "cell_type": "code",
   "execution_count": null,
   "id": "9f8c7677",
   "metadata": {},
   "outputs": [],
   "source": []
  },
  {
   "cell_type": "code",
   "execution_count": null,
   "id": "d4755289",
   "metadata": {},
   "outputs": [],
   "source": [
    "sns.countplot(data=df,x='decile_score.1',hue=\"race\")"
   ]
  },
  {
   "cell_type": "code",
   "execution_count": 7,
   "id": "66882e62",
   "metadata": {},
   "outputs": [
    {
     "data": {
      "text/plain": [
       "<AxesSubplot:xlabel='decile_score.1', ylabel='count'>"
      ]
     },
     "execution_count": 7,
     "metadata": {},
     "output_type": "execute_result"
    },
    {
     "data": {
      "image/png": "[encoded data removed]",
      "text/plain": [
       "<Figure size 640x480 with 1 Axes>"
      ]
     },
     "metadata": {},
     "output_type": "display_data"
    }
   ],
   "source": [
    "sns.countplot(data=df,x='decile_score.1',hue=\"is_recid\")"
   ]
  },
  {
   "cell_type": "code",
   "execution_count": null,
   "id": "a1c2965f",
   "metadata": {},
   "outputs": [],
   "source": []
  },
  {
   "cell_type": "code",
   "execution_count": null,
   "id": "732743ce",
   "metadata": {},
   "outputs": [],
   "source": []
  },
  {
   "cell_type": "code",
   "execution_count": null,
   "id": "49f2ebef",
   "metadata": {},
   "outputs": [],
   "source": []
  },
  {
   "cell_type": "code",
   "execution_count": null,
   "id": "a27f3e5a",
   "metadata": {},
   "outputs": [],
   "source": []
  },
  {
   "cell_type": "code",
   "execution_count": null,
   "id": "bbe4cdac",
   "metadata": {},
   "outputs": [],
   "source": []
  },
  {
   "cell_type": "code",
   "execution_count": null,
   "id": "b0514538",
   "metadata": {},
   "outputs": [],
   "source": []
  },
  {
   "cell_type": "code",
   "execution_count": null,
   "id": "eff361bd",
   "metadata": {},
   "outputs": [],
   "source": []
  },
  {
   "cell_type": "code",
   "execution_count": null,
   "id": "56655cb4",
   "metadata": {},
   "outputs": [],
   "source": []
  }
 ],
 "metadata": {
  "kernelspec": {
   "display_name": "Python 3 (ipykernel)",
   "language": "python",
   "name": "python3"
  },
  "language_info": {
   "codemirror_mode": {
    "name": "ipython",
    "version": 3
   },
   "file_extension": ".py",
   "mimetype": "text/x-python",
   "name": "python",
   "nbconvert_exporter": "python",
   "pygments_lexer": "ipython3",
   "version": "3.9.13"
  }
 },
 "nbformat": 4,
 "nbformat_minor": 5
}
